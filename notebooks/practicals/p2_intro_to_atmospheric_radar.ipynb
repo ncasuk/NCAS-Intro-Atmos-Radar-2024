{
 "cells": [
  {
   "cell_type": "markdown",
   "id": "fc96dcbe-43eb-4ee6-a188-d88fbdb1dc1c",
   "metadata": {},
   "source": [
    "# P2: Plotting and interpreting data\n",
    "\n",
    "Contents \n",
    "\n",
    "0. [Introduction](##introduction)\n",
    "1. .\n",
    "2. .\n",
    "3. [Plots](###simple-ppi-plots)\n",
    "4. .\n",
    "5. "
   ]
  },
  {
   "cell_type": "markdown",
   "id": "537bd9bc-b82c-4813-af5e-f8a18ec2e391",
   "metadata": {},
   "source": [
    "## 1. Introduction "
   ]
  },
  {
   "cell_type": "markdown",
   "id": "4828f39a-6125-479d-bd1b-52bf8f5d1602",
   "metadata": {},
   "source": [
    "In this notebook we will make use of [The Python ARM Radar Toolkit (Py-ART)](https://arm-doe.github.io/pyart/), a Python module containing a collection of tools to processes and explore data from many types of weather radars. Py-ART can read data in common weather radar formats, produce plots (e.g. PPIs and RHIs) and apply common data corrections. In this practical, we will use Py-ART to read data from the NXPol radar, plot the data and customise the plots. You will then be able to use this to explore different data and identify meteorological features. \n",
    "\n",
    "First let's import Py-ART and other packages needed to run the code. For this purposes of this course, these have been installed for you but when using your own computer you will need to install Py-ART and the required dependencies. Futher details can be found [here](https://arm-doe.github.io/pyart/#install). "
   ]
  },
  {
   "cell_type": "code",
   "execution_count": null,
   "id": "91392d63-8091-4059-87cf-2fab6b41e414",
   "metadata": {},
   "outputs": [],
   "source": [
    "import pyart \n",
    "import numpy as np # for working with data arrays \n",
    "import matplotlib.pyplot as plt # to make and customise plots\n",
    "import cartopy.crs as ccrs # to produce maps\n",
    "import glob # for accessing multiple files using wild cards (useful for finding and reading data files)\n",
    "import os # for operating system dependent functionality such as manipulating file paths (useful for finding and reading data files)"
   ]
  },
  {
   "cell_type": "markdown",
   "id": "2f6dbff7-4354-4c7f-b944-e385cf75f2d4",
   "metadata": {},
   "source": [
    "## 2. Reading data"
   ]
  },
  {
   "cell_type": "markdown",
   "id": "ab1643f7-d347-4b6d-8a66-ed485f1ce45a",
   "metadata": {},
   "source": [
    "As outline in Practical 1, Py-ART can read data in common weather radar formats (e.g. Sigmet/IRIS, MDV, CF/Radial, UF, NEXRAD). We will start with an example radar file from NXPol-2."
   ]
  },
  {
   "cell_type": "code",
   "execution_count": null,
   "id": "ea1f3d90-c98d-4d88-ad82-35b88332e332",
   "metadata": {},
   "outputs": [],
   "source": [
    "radar_file = '/gws/pw/j07/woest/data/ncas-mobile-x-band-radar-1//level2/sur/20230622/bl_scans/ncas-mobile-x-band-radar-1_lyneham_20230622-182423_vol_v1.0.0.nc'"
   ]
  },
  {
   "cell_type": "markdown",
   "id": "1ada73b0-2183-4496-adcc-2eb18af9267d",
   "metadata": {},
   "source": [
    "When reading data we will use the [```pyart.io.read```](https://arm-doe.github.io/pyart/API/generated/pyart.io.read.html) module. ```pyart.io.read``` can automatically detect the file format, however in some cases explicitely choosing the appropriate function for the file format may be necessary. Documentation on what formats Py-ART can read can be found [here](https://arm-doe.github.io/pyart/API/generated/pyart.io.html). NXPol data is in the common CF-radial format so we can simply use ```pyart.io.read```. Setting ```delay_field_loading=True``` delays loading of data from the file until it is accessed, this can speed up loading. "
   ]
  },
  {
   "cell_type": "code",
   "execution_count": null,
   "id": "9c9fb6f0-c6b9-4c79-993b-b01afedef706",
   "metadata": {},
   "outputs": [],
   "source": [
    "radar = pyart.io.read(radar_file, delay_field_loading=True)"
   ]
  },
  {
   "cell_type": "markdown",
   "id": "f25a96a2-34de-4e4b-87f3-6bfad84b4016",
   "metadata": {},
   "source": [
    "When we run this, we get a [```pyart.Radar``` object](https://arm-doe.github.io/pyart/API/generated/pyart.core.Radar.html#pyart.core.Radar), within which the variables are stored in dictionaries or dictionaries of dictionaries. (Note: for more information on Python dictionaries see [here](https://docs.python.org/3/tutorial/datastructures.html#dictionaries)). Let's have a look using the ```radar.info``` method. "
   ]
  },
  {
   "cell_type": "markdown",
   "id": "7a2bb944-23ce-4a1f-a6ef-1752c4af9b36",
   "metadata": {},
   "source": [
    "As you can see, this gives a complete picture of what is in the file. Information about the radar, data processing and observational period can be found in the ```radar.metadata``` attribute. Variables relating to the scans are stored in dictionaries that contain the data as well important information such as the units and variable name (according to C/F conventions). We can access these using the radar object and the variable name. For example, we can look at the elevation. "
   ]
  },
  {
   "cell_type": "code",
   "execution_count": null,
   "id": "b65b3480-8c2d-4cb6-a586-ebaaf0098143",
   "metadata": {},
   "outputs": [],
   "source": [
    "radar.elevation"
   ]
  },
  {
   "cell_type": "markdown",
   "id": "a71f6fb9-0c6e-49f9-8256-a9a4e535ef73",
   "metadata": {},
   "source": [
    "The ```fields``` attribute stores the actual measurement data such as reflectivity and velocity in a dictionary of dictionaries. To see what fields are present let's access the dictionary keys."
   ]
  },
  {
   "cell_type": "code",
   "execution_count": null,
   "id": "34ef8d36-bf63-4770-a5b1-68a8fe510786",
   "metadata": {},
   "outputs": [],
   "source": [
    "radar.fields.keys()"
   ]
  },
  {
   "cell_type": "markdown",
   "id": "58fba1bd-5573-49d8-8861-f481c9c304f8",
   "metadata": {},
   "source": [
    "To look at an individual field we can use the variable name to access the relevant dictionary. For example, to look at the horizontal reflectivity we use ```'dBZ'```. Note that because we set ```delay_field_loading=True``` when reading the data the field attribute contains LazyLoadDict objects no dict objects and the field data is not loaded until the 'data' key is accessed. To have a look at the dictionary we need to print the field and not just call ```radar.fields['dBZ']``` as we could with a normal dict object."
   ]
  },
  {
   "cell_type": "code",
   "execution_count": null,
   "id": "197189cd-147b-47f9-81cc-668e76e4c4f5",
   "metadata": {},
   "outputs": [],
   "source": [
    "print(radar.fields['dBZ'])"
   ]
  },
  {
   "cell_type": "markdown",
   "id": "cab23a36-690a-4c87-b541-6997b70b13a9",
   "metadata": {},
   "source": [
    "Within each field the data itself is stored under the ```'data'``` key which can be added to the call to extract the data array from the dictionary."
   ]
  },
  {
   "cell_type": "code",
   "execution_count": null,
   "id": "6f32a5cb-bb0c-4aff-a077-99e9bc3382b6",
   "metadata": {},
   "outputs": [],
   "source": [
    "reflectivity = radar.fields['dBZ']['data']\n",
    "reflectivity"
   ]
  },
  {
   "cell_type": "markdown",
   "id": "8a81dd2b-7154-4c6a-ab31-b6bef6589254",
   "metadata": {},
   "source": [
    "## 3. Plotting data"
   ]
  },
  {
   "cell_type": "markdown",
   "id": "4ef22401-8b25-46e6-9fe7-6dce432f94b9",
   "metadata": {},
   "source": [
    "### 3.1 Simple PPI plots\n",
    "Having read in the data, we can now make some plots. Py-ART has built in visualisation classes for plotting PPIs, RHIs and individual ray traces in the [```pyart.graph``` module](https://arm-doe.github.io/pyart/API/generated/pyart.graph.html). \n",
    "\n",
    "The first step to producing a plot using Py-ART is to initilize a [radar display object](https://arm-doe.github.io/pyart/API/generated/pyart.graph.RadarDisplay.html) using our radar object as the input to the function. "
   ]
  },
  {
   "cell_type": "code",
   "execution_count": null,
   "id": "332c5f33-1665-49d5-b4f4-ee2a001c40a0",
   "metadata": {},
   "outputs": [],
   "source": [
    "display = pyart.graph.RadarDisplay(radar)"
   ]
  },
  {
   "cell_type": "markdown",
   "id": "229746e7-61f6-4790-946c-44c4579487f0",
   "metadata": {},
   "source": [
    "Once the the map display is initialized we can add a plot to it Py-ART's plotting functions. The types of plots available can be found in the [```RadarDisplay``` documentation](https://arm-doe.github.io/pyart/API/generated/pyart.graph.RadarDisplay.html#pyart.graph.RadarDisplay). The data we have loaded is from NXPol used in PPI mode, meaning the elevation angle is constant but the azimuth angle varies (i.e. the radar rotates through 360 degrees). We can display this data on a 2D PPI plot with the radar in the centre. "
   ]
  },
  {
   "cell_type": "code",
   "execution_count": null,
   "id": "1dfb85c2-ceec-4cdd-959f-fd84787064c9",
   "metadata": {},
   "outputs": [],
   "source": [
    "display.plot_ppi('dBZ')"
   ]
  },
  {
   "cell_type": "markdown",
   "id": "d7afe509-6fbe-4b7d-bbf4-51505dabeda7",
   "metadata": {},
   "source": [
    "This plot is at 1.5 deg elevation angle but having a look at the ```radar.nsweeps``` attribute reveals that there are are 6 sweeps, each at a different elevation angle. We can specify the sweep index when making the plot to choose a different elevation angle. Note: try ```np.unique(radar.elevation['data'])``` to see what elevation angles there are."
   ]
  },
  {
   "cell_type": "code",
   "execution_count": null,
   "id": "9e28c448-df20-44ea-9128-41db9529ab0a",
   "metadata": {},
   "outputs": [],
   "source": [
    "display.plot_ppi('dBZ', 2) "
   ]
  },
  {
   "cell_type": "markdown",
   "id": "e56f5a9a-212f-44d7-95c1-8b23f62150d0",
   "metadata": {},
   "source": [
    "As well as plotting the PPI we can add other useful details to the map such as range rings and crosshairs to show the location of the radar. Each plotting function also takes various input variables, outlined in the documentation (e.g. [```plot_ppi``` documentation](https://arm-doe.github.io/pyart/API/generated/pyart.graph.RadarDisplay.plot_ppi.html#pyart.graph.RadarDisplay.plot_ppi)), that we can play with to being to customise the plot. Let's see what we can do. "
   ]
  },
  {
   "cell_type": "code",
   "execution_count": null,
   "id": "29d7a86d-0980-419d-aee9-ae83ea43cde0",
   "metadata": {},
   "outputs": [],
   "source": [
    "display.plot_ppi('dBZ', \n",
    "                 sweep = 0, # sweep index\n",
    "                 vmin = -10, # lower limit of colourscale \n",
    "                 vmax = 50, # upper limit of colourscale \n",
    "                 title = 'This is a PPI plot', # set title (can also be turned off using title_flag = False)\n",
    "                 colorbar_label  = 'Horizontal reflectivity (dBZ)', # set colourbar label\n",
    "                 cmap = 'viridis' # change colourmap (we will come back to colourmaps later...)\n",
    "                )\n",
    "\n",
    "display.plot_range_rings([50,100], # list of locations to draw range rings in km from radar\n",
    "                         ls = '-', #linestyle\n",
    "                         lw = '1' #linewidth\n",
    "                         ) \n",
    "\n",
    "display.plot_cross_hair(2) # size in km\n",
    "\n",
    "display.plot_grid_lines(col = 'gray', # colour\n",
    "                        ls = ':' # linestyle \n",
    "                        ) "
   ]
  },
  {
   "cell_type": "markdown",
   "id": "7b307558-8044-49ea-91bb-8eee1d2c8f63",
   "metadata": {},
   "source": [
    "### 3.2 Creating a map\n",
    "Our PPI plot is a good start but it is usually beneficial to know where our radar is located. Luckily for us, Py-ART can also create plots on a geographic map using [Cartopy](https://scitools.org.uk/cartopy/docs/latest/). The process is similar to what we have just done, but rather than a radar display object we inizialize a [radar map display object](https://arm-doe.github.io/pyart/API/generated/pyart.graph.RadarMapDisplay.html) upon which we can plot a PPI map."
   ]
  },
  {
   "cell_type": "code",
   "execution_count": null,
   "id": "bf654155-044b-472b-b36a-8a60f90454bc",
   "metadata": {},
   "outputs": [],
   "source": [
    "display = pyart.graph.RadarMapDisplay(radar)\n",
    "display.plot_ppi_map('dBZ', 0)"
   ]
  },
  {
   "cell_type": "markdown",
   "id": "3acda284-e544-4771-a9b7-20161e70f4f3",
   "metadata": {},
   "source": [
    "As you can see, we now have some new features (but what are they?) and the X, Y labels in distance from the radar are no longer present. You may also have noticed an error informing you that no projection has been defined for the axes. When creating a map, the projection defines the set of transformations used to flatten the curved surface of the globe on to a plane. It is impossible to do this without some sort of distortion, and different map projections distort the globe in different ways. Some projections maintain the shape of objects but distort their area, leading to some places appearing much larger than they are. Others maintain the area but distort their shape, leading to places appearing squashed or stretched. The 'best' projection to use varies depending on the desired use, location and data being plotted. For radar data, the azimuthal equidistant projection centred on the radar is a good choice because this projection preserves distance and direction from the central point. \n",
    "\n",
    "We can get the radar longitude and latitude from the radar object and use these to define the Cartopy projection to be used. "
   ]
  },
  {
   "cell_type": "code",
   "execution_count": null,
   "id": "62bbc498-0d17-4209-bac3-23954b00a9d6",
   "metadata": {},
   "outputs": [],
   "source": [
    "grid_projection = ccrs.AzimuthalEquidistant(central_longitude=radar.longitude['data'][0],\n",
    "                                            central_latitude=radar.latitude['data'][0]\n",
    "                                           )\n"
   ]
  },
  {
   "cell_type": "markdown",
   "id": "e37abbdf-1fdf-493c-8822-4887e65fe33c",
   "metadata": {},
   "source": [
    "Checking out the [```plot_ppi_map``` documentation](https://arm-doe.github.io/pyart/API/generated/pyart.graph.RadarMapDisplay.plot_ppi_map.html) shows how we can set the projection when plotting the map and gives additional ways we can customise the plots, for example changing the map resolution."
   ]
  },
  {
   "cell_type": "code",
   "execution_count": null,
   "id": "559886b6-3b40-40b9-a3ab-81973b62e630",
   "metadata": {},
   "outputs": [],
   "source": [
    "display.plot_ppi_map('dBZ', # field \n",
    "                     sweep = 0, # sweep index\n",
    "                     resolution = '10m', # map resolution\n",
    "                     vmin = -10, # lower limit of colourscale \n",
    "                     vmax = 50, # upper limit of colourscale \n",
    "                     title = 'This is a PPI map plot', # set title (can also be turned off using title_flag = False)\n",
    "                     colorbar_label  = 'Horizontal reflectivity (dBZ)', # set colourbar label\n",
    "                     projection = grid_projection\n",
    "                    )\n",
    "\n",
    "display.plot_range_rings([50,100], \n",
    "                         ls = '--',\n",
    "                         lw = '1')\n",
    "\n",
    "display.plot_cross_hair(2000)"
   ]
  },
  {
   "cell_type": "markdown",
   "id": "59645286-dc28-4da8-a514-528c791ae715",
   "metadata": {},
   "source": [
    "### 3.3 Customising plots "
   ]
  },
  {
   "cell_type": "markdown",
   "id": "5d3acd93-280b-4214-9e5f-7e55a31bd0b8",
   "metadata": {},
   "source": [
    "Py-ART plotting functions are great however the customisations can sometimes be limited, and you may wish to personalise things more. Since Py-ART plotting is built upon matplotlib and cartopy we can use these as we would with any other type of plotting by turning off the embellishments added by Py-ART and adding our own. We can also add other features to the map, for example plotting the location of Chilbolton Atmospheric Observatory. "
   ]
  },
  {
   "cell_type": "code",
   "execution_count": null,
   "id": "34a0e52b-0afb-4129-9f99-9a325c540072",
   "metadata": {},
   "outputs": [],
   "source": [
    "sweep_idx = 0\n",
    "\n",
    "fig = plt.figure(figsize=(8,5)) # Make the figure bigger\n",
    "ax = plt.subplot(111, projection=grid_projection) # create GeoAxes using the correct projection\n",
    "\n",
    "# plot ppi\n",
    "display.plot_ppi_map('dBZ',\n",
    "                     sweep = 0,\n",
    "                     ax = ax,\n",
    "                     embellish = False, # turn off embellishments such as coastlines\n",
    "                     title_flag = False, # turn off title\n",
    "                     projection = grid_projection\n",
    "                     )\n",
    "\n",
    "# add coastlines to plot (this adds coastlines only, without the admin boundaries that Py-ART includes)\n",
    "ax.coastlines(resolution = '10m');\n",
    "\n",
    "# set up title and add \n",
    "start_dt = radar.metadata['start_datetime']\n",
    "elevation = np.unique(radar.elevation['data'])[sweep_idx]\n",
    "instrument = 'NXPol-1'\n",
    "title = f'{instrument}, {start_dt}, elevation {elevation}$^\\\\circ$'\n",
    "ax.set_title(title, fontsize = 12)\n",
    "\n",
    "# plot range ringes\n",
    "display.plot_range_rings([50,100], \n",
    "                         ls = '--',\n",
    "                         lw = '1')\n",
    "\n",
    "# plot cross hair\n",
    "display.plot_cross_hair(2000, ax = ax) \n",
    "\n",
    "# add gridlines \n",
    "gl = ax.gridlines(draw_labels=True,\n",
    "                  dms = False,\n",
    "                  x_inline=False,\n",
    "                  y_inline=False,\n",
    "                  rotate_labels=False,\n",
    "                  alpha = 0.7,\n",
    "                  zorder = 0,\n",
    "                  linewidth = 0.25,\n",
    "                  )\n",
    "gl.right_labels = gl.top_labels = False\n",
    "\n",
    "# plot Chilbolton location\n",
    "chilbolton_lon, chilbolton_lat = -1.43858, 51.14456\n",
    "\n",
    "ax.plot(chilbolton_lon, chilbolton_lat, \n",
    "        transform = ccrs.PlateCarree(), \n",
    "        linestyle = '',\n",
    "        marker = 'D',\n",
    "        markersize = 4,\n",
    "        color = 'black',\n",
    "        label = 'Chilbolton atmospheric observatory'\n",
    "       )\n",
    "\n",
    "# add legend\n",
    "ax.legend(loc = 'upper right',fontsize = 9);\n"
   ]
  },
  {
   "cell_type": "markdown",
   "id": "4d3e2c43-4865-4add-898e-e5cce31eaeaf",
   "metadata": {},
   "source": [
    "### 3.4 Plotting multiple variables on subplots \n",
    "\n",
    "Info here"
   ]
  },
  {
   "cell_type": "code",
   "execution_count": null,
   "id": "949ccd19-21ea-4d23-bc08-5fef1f086ba1",
   "metadata": {},
   "outputs": [],
   "source": [
    "fig = plt.figure(figsize=(11,4), constrained_layout = True) # Make the figure bigger\n",
    "ax1 = plt.subplot(121, projection=grid_projection)\n",
    "ax2 = plt.subplot(122, projection=grid_projection)\n",
    "\n",
    "# plot ppi\n",
    "\n",
    "plot_variables = ['dBZ','V']\n",
    "axes = [ax1,ax2]\n",
    "for ax,field in zip(axes,plot_variables):\n",
    "    display.plot_ppi_map(field,\n",
    "                     sweep = 0,\n",
    "                     ax = ax, # set which axes to create the plot on \n",
    "                     embellish = False, # turn off embellishments such as coastlines\n",
    "                     title_flag = False, # turn off title\n",
    "                     projection = grid_projection # set projection\n",
    "                     )\n",
    "    \n",
    "    # add coastlines to plot\n",
    "    ax.coastlines(resolution = '10m');\n",
    "    \n",
    "    # set up title and add \n",
    "    start_dt = radar.metadata['start_datetime']\n",
    "    elevation = np.unique(radar.elevation['data'])[sweep_idx]\n",
    "    instrument = 'NXPol-1'\n",
    "    title = f'{instrument}, {start_dt}, elevation {elevation}$^\\\\circ$'\n",
    "    #ax.set_title(title, fontsize = 12)\n",
    "    \n",
    "    # plot range ringes\n",
    "    display.plot_range_rings([50,100],\n",
    "                             ls = '--',\n",
    "                             lw = '1')\n",
    "    \n",
    "    # plot cross hair\n",
    "    display.plot_cross_hair(2000, ax = ax) \n",
    "    \n",
    "    # add gridlines \n",
    "    gl = ax.gridlines(draw_labels=True,\n",
    "                      dms = False,\n",
    "                      x_inline=False,\n",
    "                      y_inline=False,\n",
    "                      rotate_labels=False,\n",
    "                      alpha = 0.7,\n",
    "                      zorder = 0,\n",
    "                      linewidth = 0.25,\n",
    "                      )\n",
    "    gl.right_labels = gl.top_labels = False\n",
    "    \n",
    "    # plot Chilbolton location\n",
    "    chilbolton_lon, chilbolton_lat = -1.43858, 51.14456\n",
    "    \n",
    "    ax.plot(chilbolton_lon, chilbolton_lat, \n",
    "            transform = ccrs.PlateCarree(), \n",
    "            linestyle = '',\n",
    "            marker = 'D',\n",
    "            markersize = 4,\n",
    "            color = 'black',\n",
    "            label = 'Chilbolton atmospheric observatory'\n",
    "           )\n",
    "    \n",
    "    # add legend\n",
    "    ax.legend(loc = 'upper right',fontsize = 9);\n",
    "\n",
    "fig.suptitle(title);"
   ]
  },
  {
   "cell_type": "markdown",
   "id": "4bcb66e0-0857-450a-9835-363534710a08",
   "metadata": {},
   "source": [
    "## Create RHI plots \n",
    "\n",
    "As well as PPI scans, NXPol can also run in Range Height Indicator (RHI) mode, meaning the azimuth angle is fixed but the elevation changes leading to data in the vertical plane. We can make RHI plots using Py-ART by once again initilizing a radar display and then using the [```display.plot_rhi```](https://arm-doe.github.io/pyart/API/generated/pyart.graph.RadarDisplay.plot_rhi.html) function. "
   ]
  },
  {
   "cell_type": "code",
   "execution_count": null,
   "id": "1765e576-a83d-4c97-8091-61ba04c191c6",
   "metadata": {},
   "outputs": [],
   "source": [
    "radar_file = '/gws/pw/j07/woest/data/ncas-mobile-x-band-radar-1/level2/rhi/20230612/ncas-mobile-x-band-radar-1_lyneham_20230612-151859_rhi_v1.0.0.nc'"
   ]
  },
  {
   "cell_type": "code",
   "execution_count": null,
   "id": "bb8dcb58-2b74-4229-bef5-5d02f5537805",
   "metadata": {},
   "outputs": [],
   "source": [
    "radar = pyart.io.read(radar_file, delay_field_loading=True)"
   ]
  },
  {
   "cell_type": "code",
   "execution_count": null,
   "id": "1818fab2-6fd7-4727-9395-c08b4c8a9f32",
   "metadata": {},
   "outputs": [],
   "source": [
    "display = pyart.graph.RadarDisplay(radar)\n",
    "display.plot_rhi('dBZ')"
   ]
  },
  {
   "cell_type": "markdown",
   "id": "7b8d788b-5955-45ee-873e-806980f3e43e",
   "metadata": {},
   "source": [
    "This can be customised in a similar way to our previous plots. "
   ]
  },
  {
   "cell_type": "code",
   "execution_count": null,
   "id": "fa790e21-6f06-4519-a32e-aa0a8f8dd30d",
   "metadata": {},
   "outputs": [],
   "source": [
    "fig = plt.figure(figsize=(12,4)) # Make the figure bigger\n",
    "ax = plt.subplot(111)\n",
    "                 \n",
    "display.plot_rhi('dBZ',\n",
    "                 ax = ax,\n",
    "                 vmax = 50,\n",
    "                 zorder = 10)\n",
    "\n",
    "ax.set_ylim([0,10])\n",
    "ax.set_xlim([0,100])\n",
    "ax.grid(alpha = 0.5,\n",
    "        zorder = 0)"
   ]
  },
  {
   "cell_type": "code",
   "execution_count": null,
   "id": "ceb91466-a734-4c7f-bf31-d9c8f83a9965",
   "metadata": {},
   "outputs": [],
   "source": [
    "fig = plt.figure(figsize=(11,6), constrained_layout = True) # Make the figure bigger\n",
    "ax1 = plt.subplot(211)\n",
    "ax2 = plt.subplot(212)\n",
    "\n",
    "# plot ppi\n",
    "\n",
    "plot_variables = ['dBZ','V']\n",
    "axes = [ax1,ax2]\n",
    "for ax,field in zip(axes,plot_variables):\n",
    "    display.plot_rhi(field,\n",
    "                     ax = ax,\n",
    "                     title_flag = False, # turn off title\n",
    "                     )\n",
    "    \n",
    "    \n",
    "    # set up title and add \n",
    "    start_dt = radar.metadata['start_datetime']\n",
    "    elevation = np.unique(radar.elevation['data'])[sweep_idx]\n",
    "    instrument = 'NXPol-1'\n",
    "    title = f'{instrument}, {start_dt}, elevation {elevation}$^\\\\circ$'\n",
    "    #ax.set_title(title, fontsize = 12)\n",
    "\n",
    "    ax.set_ylim([0,10])\n",
    "    ax.set_xlim([0,100])\n",
    "    ax.grid(alpha = 0.5,\n",
    "            zorder = 0)\n",
    "    ax.label_outer()\n"
   ]
  },
  {
   "cell_type": "markdown",
   "id": "40bf646c-d495-4263-81cb-b968da4e06b0",
   "metadata": {},
   "source": [
    "## Choosing a colormap\n"
   ]
  },
  {
   "cell_type": "markdown",
   "id": "290ffb96-48fd-450a-a9d9-2c4309b4c1fe",
   "metadata": {},
   "source": [
    "## Saving plots \n",
    "incl. naming conventions "
   ]
  },
  {
   "cell_type": "code",
   "execution_count": null,
   "id": "97522582-2b06-4f06-86e4-db5a74ed94d9",
   "metadata": {},
   "outputs": [],
   "source": []
  },
  {
   "cell_type": "markdown",
   "id": "7835926c-a100-4d79-9535-8879072ec038",
   "metadata": {},
   "source": [
    "# P3: Plotting dual-polarisation data"
   ]
  },
  {
   "cell_type": "markdown",
   "id": "5d74c4db-d95e-4eba-986a-bb25c1fa89a8",
   "metadata": {
    "tags": []
   },
   "source": [
    "## Create multiple plots\n",
    "choose different variables in the same file, read in multiple files, loop over subplots, adjust names and filenames in loop"
   ]
  },
  {
   "cell_type": "markdown",
   "id": "88475f32-d28b-4c20-bd04-3ff3d2d8251e",
   "metadata": {},
   "source": [
    "## Brief overview of other ways to plot data\n",
    "\n",
    "xarray etc"
   ]
  },
  {
   "cell_type": "markdown",
   "id": "3d45a42b-11f4-4e64-b12c-a65c1519522c",
   "metadata": {},
   "source": [
    "## Notes to self\n",
    "(will be deleted) "
   ]
  },
  {
   "cell_type": "code",
   "execution_count": null,
   "id": "7d5b643e-b436-4a88-9e8c-7c32c210899b",
   "metadata": {},
   "outputs": [],
   "source": [
    "#radar_file = '/gws/pw/j07/woest/data/ncas-radar-x-band-2/level2/sur/20230622/bl_scans/ncas-radar-x-band-2_cao_20230622-181414_vol_v1.0.0.nc'\n",
    "\n",
    "#directory = '/gws/pw/j07/woest/data/ncas-mobile-x-band-radar-1//level2/sur/20230622/bl_scans/'\n",
    "#files = os.listdir(directory)\n",
    "#radar_file = os.path.join(directory, files[110])\n",
    "\n",
    "\n",
    "#directory = '/gws/pw/j07/woest/data/ncas-mobile-x-band-radar-1/level2/rhi/20230612'\n",
    "#files = os.listdir(directory)\n",
    "#radar_file = os.path.join(directory, files[85])"
   ]
  }
 ],
 "metadata": {
  "kernelspec": {
   "display_name": "Python 3 (ipykernel)",
   "language": "python",
   "name": "python3"
  },
  "language_info": {
   "codemirror_mode": {
    "name": "ipython",
    "version": 3
   },
   "file_extension": ".py",
   "mimetype": "text/x-python",
   "name": "python",
   "nbconvert_exporter": "python",
   "pygments_lexer": "ipython3",
   "version": "3.10.9"
  }
 },
 "nbformat": 4,
 "nbformat_minor": 5
}
