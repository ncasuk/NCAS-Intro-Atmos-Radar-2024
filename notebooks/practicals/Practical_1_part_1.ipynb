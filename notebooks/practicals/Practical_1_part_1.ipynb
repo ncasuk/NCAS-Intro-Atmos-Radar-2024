{
 "cells": [
  {
   "cell_type": "markdown",
   "id": "eb88c721-b8fc-4cd5-b4dd-7b6ccfcb6bac",
   "metadata": {},
   "source": [
    "## Introduction to Atmospheric Radar Course - Practical 1\n",
    "\n",
    "<img src=\"NCAS_national_centre_logo_transparent.png\" alt=\"NCAS\" style=\"width: 200px;\"/>\n",
    "\n",
    "\n",
    "## An Introduction to reading and interogating radar files with open source radar packages\n",
    "### Part 1 - The Python-ARM Radar toolkit Py-ART\n",
    "\n",
    "#### Overview\n",
    "This notebook introduces the Python-ARM radar toolkit originally developed by the Atmospheric Radiation Measurement (ARM) User Facility. We cover how to read data files with Py-ART,  the data model used by Py-ART and how to use the data model to interogate basic information found within those files. An example file from the NCAS mobile X-band radar is used in this notebook.\n",
    "\n",
    "##### An introduction to Py-ART\n",
    "\n",
    "Helmus, J.J. & Collis, S.M., (2016). The Python ARM Radar Toolkit (Py-ART), a Library for Working with Weather Radar Data in the Python Programming Language. Journal of Open Research Software. 4(1), p.e25. DOI: http://doi.org/10.5334/jors.119\n",
    "\n",
    "- Official source code repository: https://github.com/ARM-DOE/pyart\n",
    "- \n",
    "HTML documentation: https://arm-doe.github.io/pyart\n",
    "/"
   ]
  },
  {
   "cell_type": "code",
   "execution_count": 1,
   "id": "550dfb1a-40b5-4b96-a5a4-8f5eb914941f",
   "metadata": {},
   "outputs": [
    {
     "name": "stdout",
     "output_type": "stream",
     "text": [
      "\n",
      "## You are using the Python ARM Radar Toolkit (Py-ART), an open source\n",
      "## library for working with weather radar data. Py-ART is partly\n",
      "## supported by the U.S. Department of Energy as part of the Atmospheric\n",
      "## Radiation Measurement (ARM) Climate Research Facility, an Office of\n",
      "## Science user facility.\n",
      "##\n",
      "## If you use this software to prepare a publication, please cite:\n",
      "##\n",
      "##     JJ Helmus and SM Collis, JORS 2016, doi: 10.5334/jors.119\n",
      "\n"
     ]
    }
   ],
   "source": [
    "import pyart\n",
    "\n",
    "# Some helpful additional modules to load for examining the radar files / the data within during the notebook\n",
    "import numpy as np\n",
    "import matplotlib.pyplot as plt"
   ]
  },
  {
   "cell_type": "markdown",
   "id": "4ee5137f-1b1d-4a90-b362-0a555c740971",
   "metadata": {},
   "source": [
    "##### Reading files with Py-ART"
   ]
  },
  {
   "cell_type": "markdown",
   "id": "5c95ffaf-55fb-474d-8604-7a4f34056f32",
   "metadata": {},
   "source": [
    "Py-ART is capable of reading radar data stored in a number of file formats, including Cf/Radial, Sigmet and NexRAD. Core integrated input/output functions are found within the [```io```](https://arm-doe.github.io/pyart/API/generated/pyart.io.html) module, while some less well tested input/output functions are found within the [```aux_io```](https://arm-doe.github.io/pyart/API/generated/pyart.aux_io.html) module. This includes additional readers for formats such as Odim_h5 and Rainbow. We can see the difference between the two modules by examining them within the notebook:"
   ]
  },
  {
   "cell_type": "code",
   "execution_count": 2,
   "id": "8e57e0f7-f28f-4d74-a8f0-0678c99e57c5",
   "metadata": {},
   "outputs": [],
   "source": [
    "pyart.io?"
   ]
  },
  {
   "cell_type": "code",
   "execution_count": 3,
   "id": "0df8feb9-29f1-4286-bdb4-ffccba2a7c10",
   "metadata": {},
   "outputs": [],
   "source": [
    "pyart.aux_io?"
   ]
  },
  {
   "cell_type": "markdown",
   "id": "f9e3aed4-f158-45b0-b4e3-ca520b23756e",
   "metadata": {},
   "source": [
    "The aim of all reader functions within Py-ART is to take the data file and transfer it into a common radar object. We can see how this works by reading in our first example file. In this case we are using a CF/Radial formated file from the NCAS X-band mobile radar. Although we know how the file is formatted we can still use the generic ```pyart.io.read``` function to open the file, as Py-ART can distinguish file formats in the background. We need to update the data_folder variable to a string matching the directory in which the data for this practical is stored. If working on the analysis server that will be the link we placed in our home directories (you can try tab completing the following '~/iar/practical1/')."
   ]
  },
  {
   "cell_type": "code",
   "execution_count": 4,
   "id": "aabd545c-9c7d-4e34-9b39-84609536e1d6",
   "metadata": {},
   "outputs": [
    {
     "data": {
      "text/plain": [
       "<pyart.core.radar.Radar at 0x7f47201e4280>"
      ]
     },
     "execution_count": 4,
     "metadata": {},
     "output_type": "execute_result"
    }
   ],
   "source": [
    "data_folder = ''\n",
    "example_file = data_folder+'ncas-mobile-x-band-radar-1_sandwith_20191110-204252_SUR_v1.nc'\n",
    "pyart.io.read(example_file)"
   ]
  },
  {
   "cell_type": "markdown",
   "id": "d821aff3-4776-484d-9868-2541331e9738",
   "metadata": {},
   "source": [
    "This creates a core radar object. We'll save this with a variable name to allow us to investigate the data model used by Py-ART and find out some information about the data found within the file."
   ]
  },
  {
   "cell_type": "code",
   "execution_count": 5,
   "id": "fa85ae18-c8ca-4022-a65b-3028e114ac53",
   "metadata": {},
   "outputs": [],
   "source": [
    "radar = pyart.io.read(example_file)"
   ]
  },
  {
   "cell_type": "markdown",
   "id": "da091c1a-82cc-440e-8d0a-258d3f91d8f9",
   "metadata": {},
   "source": [
    "##### The Py-ART data model"
   ]
  },
  {
   "cell_type": "markdown",
   "id": "eb5961cc-837f-4296-a0dc-309493a77e4c",
   "metadata": {},
   "source": [
    "The Py-ART data model holds the radar file, the fields within the file and its associated metadata within a ```pyart.Radar``` object.\n",
    "\n",
    "The documentation for the radar object can be found here: [Radar object](https://arm-doe.github.io/pyart/API/generated/pyart.core.Radar.html)\n",
    "\n",
    "The object unpacks the file into a set of attributes which can include:\n",
    "\n",
    "- radar.altitude - Altitude of the instrument, above sea level.\n",
    "- radar.range - Range to the center of each gate (bin).\n",
    "- radar.fields - The data variables stored within the file\n",
    "- radar.metadata - Metadata fields from the file\n",
    "\n",
    "To see all of the attributes within the file we can use the inbuilt [```info```](https://arm-doe.github.io/pyart/API/generated/pyart.core.Radar.info.html) method. We'll first examine this method within our notebook using a ```?```"
   ]
  },
  {
   "cell_type": "code",
   "execution_count": 6,
   "id": "efb6b43c-1b63-4e8f-9a3a-92f3161d90f1",
   "metadata": {},
   "outputs": [],
   "source": [
    "radar.info?"
   ]
  },
  {
   "cell_type": "code",
   "execution_count": 7,
   "id": "16ab0058-4906-49e3-aa12-4a3d04305c5e",
   "metadata": {},
   "outputs": [
    {
     "name": "stdout",
     "output_type": "stream",
     "text": [
      "altitude: <ndarray of type: float64 and shape: (1,)>\n",
      "altitude_agl: <ndarray of type: float64 and shape: (1,)>\n",
      "antenna_transition: <ndarray of type: int8 and shape: (3600,)>\n",
      "azimuth: <ndarray of type: float32 and shape: (3600,)>\n",
      "elevation: <ndarray of type: float32 and shape: (3600,)>\n",
      "fields:\n",
      "\tCCOR: <ndarray of type: float32 and shape: (3600, 1000)>\n",
      "\tCCORv: <ndarray of type: float32 and shape: (3600, 1000)>\n",
      "\tDOP: <ndarray of type: float32 and shape: (3600, 1000)>\n",
      "\tDOPu: <ndarray of type: float32 and shape: (3600, 1000)>\n",
      "\tKDP: <ndarray of type: float32 and shape: (3600, 1000)>\n",
      "\tPhiDP: <ndarray of type: float32 and shape: (3600, 1000)>\n",
      "\tRhoHV: <ndarray of type: float32 and shape: (3600, 1000)>\n",
      "\tRhoHVu: <ndarray of type: float32 and shape: (3600, 1000)>\n",
      "\tSNR: <ndarray of type: float32 and shape: (3600, 1000)>\n",
      "\tSNRu: <ndarray of type: float32 and shape: (3600, 1000)>\n",
      "\tSNRv: <ndarray of type: float32 and shape: (3600, 1000)>\n",
      "\tSNRvu: <ndarray of type: float32 and shape: (3600, 1000)>\n",
      "\tSQI: <ndarray of type: float32 and shape: (3600, 1000)>\n",
      "\tSQIu: <ndarray of type: float32 and shape: (3600, 1000)>\n",
      "\tSQIv: <ndarray of type: float32 and shape: (3600, 1000)>\n",
      "\tSQIvu: <ndarray of type: float32 and shape: (3600, 1000)>\n",
      "\tV: <ndarray of type: float32 and shape: (3600, 1000)>\n",
      "\tVu: <ndarray of type: float32 and shape: (3600, 1000)>\n",
      "\tVv: <ndarray of type: float32 and shape: (3600, 1000)>\n",
      "\tVvu: <ndarray of type: float32 and shape: (3600, 1000)>\n",
      "\tW: <ndarray of type: float32 and shape: (3600, 1000)>\n",
      "\tWu: <ndarray of type: float32 and shape: (3600, 1000)>\n",
      "\tWv: <ndarray of type: float32 and shape: (3600, 1000)>\n",
      "\tWvu: <ndarray of type: float32 and shape: (3600, 1000)>\n",
      "\tZDR: <ndarray of type: float32 and shape: (3600, 1000)>\n",
      "\tZDRu: <ndarray of type: float32 and shape: (3600, 1000)>\n",
      "\tdBZ: <ndarray of type: float32 and shape: (3600, 1000)>\n",
      "\tdBZv: <ndarray of type: float32 and shape: (3600, 1000)>\n",
      "\tdBuZ: <ndarray of type: float32 and shape: (3600, 1000)>\n",
      "\tdBuZv: <ndarray of type: float32 and shape: (3600, 1000)>\n",
      "\tuKDP: <ndarray of type: float32 and shape: (3600, 1000)>\n",
      "\tuKDPu: <ndarray of type: float32 and shape: (3600, 1000)>\n",
      "\tuPhiDP: <ndarray of type: float32 and shape: (3600, 1000)>\n",
      "\tuPhiDPu: <ndarray of type: float32 and shape: (3600, 1000)>\n",
      "fixed_angle: <ndarray of type: float32 and shape: (10,)>\n",
      "instrument_parameters:\n",
      "\tfrequency: <ndarray of type: float32 and shape: (1,)>\n",
      "\tfollow_mode: <ndarray of type: |S1 and shape: (10, 32)>\n",
      "\tpulse_width: <ndarray of type: float32 and shape: (3600,)>\n",
      "\tprt_mode: <ndarray of type: |S1 and shape: (10, 32)>\n",
      "\tprt: <ndarray of type: float32 and shape: (3600,)>\n",
      "\tprt_ratio: <ndarray of type: float32 and shape: (3600,)>\n",
      "\tpolarization_mode: <ndarray of type: |S1 and shape: (10, 32)>\n",
      "\tnyquist_velocity: <ndarray of type: float32 and shape: (3600,)>\n",
      "\tunambiguous_range: <ndarray of type: float32 and shape: (3600,)>\n",
      "\tn_samples: <ndarray of type: int32 and shape: (3600,)>\n",
      "\tradar_antenna_gain_h: <ndarray of type: float32 and shape: (1,)>\n",
      "\tradar_antenna_gain_v: <ndarray of type: float32 and shape: (1,)>\n",
      "\tradar_beam_width_h: <ndarray of type: float32 and shape: (1,)>\n",
      "\tradar_beam_width_v: <ndarray of type: float32 and shape: (1,)>\n",
      "\tradar_rx_bandwidth: <ndarray of type: float32 and shape: (1,)>\n",
      "\tmeasured_transmit_power_v: <ndarray of type: float32 and shape: (3600,)>\n",
      "\tmeasured_transmit_power_h: <ndarray of type: float32 and shape: (3600,)>\n",
      "latitude: <ndarray of type: float64 and shape: (1,)>\n",
      "longitude: <ndarray of type: float64 and shape: (1,)>\n",
      "nsweeps: 10\n",
      "ngates: 1000\n",
      "nrays: 3600\n",
      "radar_calibration:\n",
      "\tr_calib_time: <ndarray of type: |S1 and shape: (1, 32)>\n",
      "\tr_calib_pulse_width: <ndarray of type: float32 and shape: (1,)>\n",
      "\tr_calib_xmit_power_h: <ndarray of type: float32 and shape: (1,)>\n",
      "\tr_calib_xmit_power_v: <ndarray of type: float32 and shape: (1,)>\n",
      "\tr_calib_two_way_waveguide_loss_h: <ndarray of type: float32 and shape: (1,)>\n",
      "\tr_calib_two_way_waveguide_loss_v: <ndarray of type: float32 and shape: (1,)>\n",
      "\tr_calib_two_way_radome_loss_h: <ndarray of type: float32 and shape: (1,)>\n",
      "\tr_calib_two_way_radome_loss_v: <ndarray of type: float32 and shape: (1,)>\n",
      "\tr_calib_receiver_mismatch_loss: <ndarray of type: float32 and shape: (1,)>\n",
      "\tr_calib_k_squared_water: <ndarray of type: float32 and shape: (1,)>\n",
      "\tr_calib_radar_constant_h: <ndarray of type: float32 and shape: (1,)>\n",
      "\tr_calib_radar_constant_v: <ndarray of type: float32 and shape: (1,)>\n",
      "\tr_calib_antenna_gain_h: <ndarray of type: float32 and shape: (1,)>\n",
      "\tr_calib_antenna_gain_v: <ndarray of type: float32 and shape: (1,)>\n",
      "\tr_calib_noise_hc: <ndarray of type: float32 and shape: (1,)>\n",
      "\tr_calib_noise_vc: <ndarray of type: float32 and shape: (1,)>\n",
      "\tr_calib_noise_hx: <ndarray of type: float32 and shape: (1,)>\n",
      "\tr_calib_noise_vx: <ndarray of type: float32 and shape: (1,)>\n",
      "\tr_calib_i0_dbm_hc: <ndarray of type: float32 and shape: (1,)>\n",
      "\tr_calib_i0_dbm_vc: <ndarray of type: float32 and shape: (1,)>\n",
      "\tr_calib_i0_dbm_hx: <ndarray of type: float32 and shape: (1,)>\n",
      "\tr_calib_i0_dbm_vx: <ndarray of type: float32 and shape: (1,)>\n",
      "\tr_calib_receiver_gain_hc: <ndarray of type: float32 and shape: (1,)>\n",
      "\tr_calib_receiver_gain_vc: <ndarray of type: float32 and shape: (1,)>\n",
      "\tr_calib_receiver_gain_hx: <ndarray of type: float32 and shape: (1,)>\n",
      "\tr_calib_receiver_gain_vx: <ndarray of type: float32 and shape: (1,)>\n",
      "\tr_calib_receiver_slope_hc: <ndarray of type: float32 and shape: (1,)>\n",
      "\tr_calib_receiver_slope_vc: <ndarray of type: float32 and shape: (1,)>\n",
      "\tr_calib_receiver_slope_hx: <ndarray of type: float32 and shape: (1,)>\n",
      "\tr_calib_receiver_slope_vx: <ndarray of type: float32 and shape: (1,)>\n",
      "\tr_calib_dynamic_range_db_hc: <ndarray of type: float32 and shape: (1,)>\n",
      "\tr_calib_dynamic_range_db_vc: <ndarray of type: float32 and shape: (1,)>\n",
      "\tr_calib_dynamic_range_db_hx: <ndarray of type: float32 and shape: (1,)>\n",
      "\tr_calib_dynamic_range_db_vx: <ndarray of type: float32 and shape: (1,)>\n",
      "\tr_calib_base_dbz_1km_hc: <ndarray of type: float32 and shape: (1,)>\n",
      "\tr_calib_base_dbz_1km_vc: <ndarray of type: float32 and shape: (1,)>\n",
      "\tr_calib_base_dbz_1km_hx: <ndarray of type: float32 and shape: (1,)>\n",
      "\tr_calib_base_dbz_1km_vx: <ndarray of type: float32 and shape: (1,)>\n",
      "\tr_calib_sun_power_hc: <ndarray of type: float32 and shape: (1,)>\n",
      "\tr_calib_sun_power_vc: <ndarray of type: float32 and shape: (1,)>\n",
      "\tr_calib_sun_power_hx: <ndarray of type: float32 and shape: (1,)>\n",
      "\tr_calib_sun_power_vx: <ndarray of type: float32 and shape: (1,)>\n",
      "\tr_calib_noise_source_power_h: <ndarray of type: float32 and shape: (1,)>\n",
      "\tr_calib_noise_source_power_v: <ndarray of type: float32 and shape: (1,)>\n",
      "\tr_calib_power_measure_loss_h: <ndarray of type: float32 and shape: (1,)>\n",
      "\tr_calib_power_measure_loss_v: <ndarray of type: float32 and shape: (1,)>\n",
      "\tr_calib_coupler_forward_loss_h: <ndarray of type: float32 and shape: (1,)>\n",
      "\tr_calib_coupler_forward_loss_v: <ndarray of type: float32 and shape: (1,)>\n",
      "\tr_calib_dbz_correction: <ndarray of type: float32 and shape: (1,)>\n",
      "\tr_calib_zdr_correction: <ndarray of type: float32 and shape: (1,)>\n",
      "\tr_calib_ldr_correction_h: <ndarray of type: float32 and shape: (1,)>\n",
      "\tr_calib_ldr_correction_v: <ndarray of type: float32 and shape: (1,)>\n",
      "\tr_calib_system_phidp: <ndarray of type: float32 and shape: (1,)>\n",
      "\tr_calib_test_power_h: <ndarray of type: float32 and shape: (1,)>\n",
      "\tr_calib_test_power_v: <ndarray of type: float32 and shape: (1,)>\n",
      "\tr_calib_index: <ndarray of type: int32 and shape: (3600,)>\n",
      "range: <ndarray of type: float32 and shape: (1000,)>\n",
      "scan_rate: <ndarray of type: float32 and shape: (3600,)>\n",
      "scan_type: other\n",
      "sweep_end_ray_index: <ndarray of type: int32 and shape: (10,)>\n",
      "sweep_mode: <ndarray of type: |S1 and shape: (10, 32)>\n",
      "sweep_number: <ndarray of type: int32 and shape: (10,)>\n",
      "sweep_start_ray_index: <ndarray of type: int32 and shape: (10,)>\n",
      "target_scan_rate: <ndarray of type: float32 and shape: (10,)>\n",
      "time: <ndarray of type: float64 and shape: (3600,)>\n",
      "metadata:\n",
      "\tConventions: CF-1.7\n",
      "\tSub_conventions: CF-Radial instrument_parameters radar_parameters radar_calibration\n",
      "\tversion: CF-Radial-1.4\n",
      "\ttitle: Moments from the NCAS Mobile X-band Radar at Sandwith, UK\n",
      "\tinstitution: National Centre for Atmospheric Science (NCAS)\n",
      "\treferences: https://doi.org/10.5194/amt-11-6481-2018\n",
      "\tsource: Leonardo Gematronik 50DX Mobile X-band Radar\n",
      "\thistory: Version 1, uncalibrated file\n",
      "\tcomment: (1) platform_type attribute values are specific to CfRadial. (2) There is no qc_flag variable. (3) The CF conventions are followed for time. Therefore the following date/time variables are not included: alt_time, day_of_year, year, month, day, hour, minute, second. (4) latitude and longitude dimensions are not included - latitude and longitude are scalars for this platform since it is stationary.(5) Sampling interval varies in time.\n",
      "\toriginal_format: GEMATRONIK\n",
      "\tdriver: RadxConvert(NCAR)\n",
      "\tcreated: 2020/07/23 15:53:18.786\n",
      "\tstart_datetime: 2019-11-10T20:42:52Z\n",
      "\ttime_coverage_start: 2019-11-10T20:42:52Z\n",
      "\tstart_time: 2019-11-10 20:42:52.000\n",
      "\tend_datetime: 2019-11-10T20:47:30Z\n",
      "\ttime_coverage_end: 2019-11-10T20:47:30Z\n",
      "\tend_time: 2019-11-10 20:47:30.945\n",
      "\tinstrument_name: ncas-mobile-x-band-radar-1\n",
      "\tsite_name: sandwith\n",
      "\tscan_name: \n",
      "\tscan_id: 0\n",
      "\tplatform_is_mobile: false\n",
      "\tn_gates_vary: false\n",
      "\tray_times_increase: true\n",
      "\tinstrument_manufacturer: Leonardo Germany GmbH\n",
      "\tinstrument_model: Meteor 50DX\n",
      "\tserial_number: 1108130\n",
      "\toperational_software: Rainbow\n",
      "\toperational_software_version: 5.44\n",
      "\tcreator_name: L.Bennett\n",
      "\tcreator_email: lindsay.bennett@ncas.ac.uk\n",
      "\tcreator_url: https://amf.ncas.ac.uk\n",
      "\tprocessing_software: LROSE\n",
      "\tprocessing_software_version: 20190710\n",
      "\tcalibration_sensitivity: n/a\n",
      "\tcalibration_certification_date: n/a\n",
      "\tcalibration_certification_url: n/a\n",
      "\tsampling_interval: n/a\n",
      "\taveraging_interval: n/a\n",
      "\tdata_set_version: 1\n",
      "\tdata_product_level: 1\n",
      "\tlast_revised_date: 2020-07-23\n",
      "\tproject: Radar Applications in Northern England (RAIN-E)\n",
      "\tproject_principle_investigator: Dr Ryan Neely\n",
      "\tproject_principle_investigator_contact: ryan.neely@ncas.ac.uk\n",
      "\tlicence: Data usage licence - UK Government. Open Licence agreement: http://www.nationalarchives.gov.uk/doc/opern-government-licence\n",
      "\tacknowledgement: Acknowledgement of NCAS as the data provider is required whenever and wherever this data is used\n",
      "\tplatform_name: sandwith\n",
      "\tfeature_type: radar moments\n",
      "\tplatform_location: 54 31 03 N (54.51761),  3 36 54 W (-3.61508)\n",
      "\tplatform_height: 133.0m above MSL\n",
      "\tlocation_keywords: Sandwith, reservoir, United Utilities\n",
      "\tqc_comment: n/a - no qc_flag field\n",
      "\tvolume_number: 1\n",
      "\tplatform_type: fixed\n",
      "\tinstrument_type: radar\n",
      "\tprimary_axis: axis_z\n"
     ]
    }
   ],
   "source": [
    "radar.info(level='compact')"
   ]
  },
  {
   "cell_type": "markdown",
   "id": "injured-newcastle",
   "metadata": {},
   "source": [
    "Even the ```compact``` option provides a significant print out of the file. Feel free to experiment with the other options too.\n",
    "\n",
    "Each of the lines within the info output are an attribute of the radar object that we can examine. The majority of these are python dictionary objects [```dict```](https://docs.python.org/3/tutorial/datastructures.html#dictionaries) but some of them are individual values. For example we can look at ```radar.altitude``` and ```radar.nsweeps``` to see the difference:\n"
   ]
  },
  {
   "cell_type": "code",
   "execution_count": 8,
   "id": "abandoned-barcelona",
   "metadata": {},
   "outputs": [
    {
     "data": {
      "text/plain": [
       "{'long_name': 'altitude',\n",
       " 'units': 'meters',\n",
       " '_FillValue': -9999.0,\n",
       " 'positive': 'up',\n",
       " 'data': masked_array(data=[133.],\n",
       "              mask=False,\n",
       "        fill_value=1e+20)}"
      ]
     },
     "execution_count": 8,
     "metadata": {},
     "output_type": "execute_result"
    }
   ],
   "source": [
    "radar.altitude"
   ]
  },
  {
   "cell_type": "code",
   "execution_count": 9,
   "id": "standard-share",
   "metadata": {},
   "outputs": [
    {
     "data": {
      "text/plain": [
       "10"
      ]
     },
     "execution_count": 9,
     "metadata": {},
     "output_type": "execute_result"
    }
   ],
   "source": [
    "radar.nsweeps"
   ]
  },
  {
   "cell_type": "markdown",
   "id": "married-sunset",
   "metadata": {},
   "source": [
    "While ```radar.nsweeps``` contains a single value, 10, indicating the file contains moments from 10 PPIs of radar data, the ```radar.altitude``` attribute contains a dictionary (denoted by `{}`) which contains a set of key, value pairs. If we want to obtain the values from one of these pairs we use the key within `[]` after the attribute as so:"
   ]
  },
  {
   "cell_type": "code",
   "execution_count": 10,
   "id": "differential-original",
   "metadata": {},
   "outputs": [
    {
     "data": {
      "text/plain": [
       "'meters'"
      ]
     },
     "execution_count": 10,
     "metadata": {},
     "output_type": "execute_result"
    }
   ],
   "source": [
    "radar.altitude['units']"
   ]
  },
  {
   "cell_type": "markdown",
   "id": "strong-segment",
   "metadata": {},
   "source": [
    "The ```'data'``` key is used frequently when working with radar objects to obtain access to the underlying data within an attribute or field. Once we have access to the underlying data we can use ```numpy``` or other numerical methods to begin to interogate the data. For example lets have a look at the ```radar.elevation['data']``` and find the minimum and maximum elevation angle of data stored within the file:"
   ]
  },
  {
   "cell_type": "code",
   "execution_count": 11,
   "id": "acceptable-chrome",
   "metadata": {},
   "outputs": [
    {
     "name": "stdout",
     "output_type": "stream",
     "text": [
      "[ 0.5  0.5  0.5 ... 20.  20.  20. ]\n",
      "The minimum elevation is:  0.5\n",
      "The maximum elevation is:  20.0\n"
     ]
    }
   ],
   "source": [
    "print(radar.elevation['data'])\n",
    "print('The minimum elevation is: ', np.min(radar.elevation['data']))\n",
    "print('The maximum elevation is: ', np.max(radar.elevation['data']))"
   ]
  },
  {
   "cell_type": "markdown",
   "id": "formal-seeking",
   "metadata": {},
   "source": [
    "If we go back to look at the output we can see that several attributes contain an indented list of values. These include ```radar.fields``` and ```radar.instrument_parameters```. The nested structure means these attributes contain further nested attibutes. For example, to see which fields are found within this example file we can view either the whole ```radar.fields``` attribute or just the keys of the ```radar.fields``` attribute (remember the data model stores fields and most other information within dictionary objects)."
   ]
  },
  {
   "cell_type": "code",
   "execution_count": 12,
   "id": "8a16cf1b-fab9-4b63-87e8-068780add6f7",
   "metadata": {},
   "outputs": [
    {
     "name": "stdout",
     "output_type": "stream",
     "text": [
      "{'CCOR': {'long_name': 'clutter_correction_ratio_from_horizontal_polarization', 'proposed_standard_name': 'radar_clutter_correction_ratio', 'units': 'dB', 'sampling_ratio': 1.0, '_FillValue': -9e+33, 'grid_mapping': 'grid_mapping', 'coordinates': 'time range', 'data': masked_array(\n",
      "  data=[[30.86614227294922, 0.31496062874794006, 1.574803113937378, ...,\n",
      "         0.31496062874794006, 1.2598425149917603, 0.9448819160461426],\n",
      "        [29.291337966918945, 8.188976287841797, 0.0, ...,\n",
      "         0.6299212574958801, 0.9448819160461426, 0.6299212574958801],\n",
      "        [30.55118179321289, 0.6299212574958801, 4.094488143920898, ...,\n",
      "         0.6299212574958801, 0.6299212574958801, 0.9448819160461426],\n",
      "        ...,\n",
      "        [30.236221313476562, 0.0, 0.0, ..., --, --, --],\n",
      "        [30.236221313476562, 0.0, 0.0, ..., --, --, --],\n",
      "        [28.031496047973633, 0.0, 0.0, ..., 3.464566946029663, --,\n",
      "         5.039370059967041]],\n",
      "  mask=[[False, False, False, ..., False, False, False],\n",
      "        [False, False, False, ..., False, False, False],\n",
      "        [False, False, False, ..., False, False, False],\n",
      "        ...,\n",
      "        [False, False, False, ...,  True,  True,  True],\n",
      "        [False, False, False, ...,  True,  True,  True],\n",
      "        [False, False, False, ..., False,  True, False]],\n",
      "  fill_value=-9e+33,\n",
      "  dtype=float32)}, 'CCORv': {'long_name': 'clutter_correction_ratio_from_vertical_polarization', 'proposed_standard_name': 'radar_clutter_correction_ratio', 'units': 'dB', 'sampling_ratio': 1.0, '_FillValue': -9e+33, 'grid_mapping': 'grid_mapping', 'coordinates': 'time range', 'data': masked_array(\n",
      "  data=[[24.88188934326172, 0.6299212574958801, 0.31496062874794006, ...,\n",
      "         0.9448819160461426, 1.574803113937378, 1.2598425149917603],\n",
      "        [25.196849822998047, 6.299212455749512, 0.0, ...,\n",
      "         0.9448819160461426, 0.9448819160461426, 0.6299212574958801],\n",
      "        [25.511810302734375, 0.31496062874794006, 1.8897638320922852,\n",
      "         ..., 1.2598425149917603, 0.9448819160461426, --],\n",
      "        ...,\n",
      "        [26.77165412902832, 0.0, 0.0, ..., --, --, --],\n",
      "        [23.622047424316406, 0.0, 0.0, ..., --, --, --],\n",
      "        [24.88188934326172, 0.0, 0.0, ..., --, --, --]],\n",
      "  mask=[[False, False, False, ..., False, False, False],\n",
      "        [False, False, False, ..., False, False, False],\n",
      "        [False, False, False, ..., False, False,  True],\n",
      "        ...,\n",
      "        [False, False, False, ...,  True,  True,  True],\n",
      "        [False, False, False, ...,  True,  True,  True],\n",
      "        [False, False, False, ...,  True,  True,  True]],\n",
      "  fill_value=-9e+33,\n",
      "  dtype=float32)}, 'DOP': {'long_name': 'degree_of_polarization', 'proposed_standard_name': 'radar_degree_of_polarization', 'units': '', 'sampling_ratio': 1.0, '_FillValue': -9e+33, 'grid_mapping': 'grid_mapping', 'coordinates': 'time range', 'data': masked_array(\n",
      "  data=[[0.6417322754859924, 0.8700787425041199, 0.9881889820098877, ...,\n",
      "         --, --, --],\n",
      "        [0.5787401795387268, 0.586614191532135, 0.9291338324546814, ...,\n",
      "         --, --, --],\n",
      "        [0.6102362275123596, 0.834645688533783, 0.9921259880065918, ...,\n",
      "         --, --, --],\n",
      "        ...,\n",
      "        [0.5472440719604492, 0.9055117964744568, 0.9960629940032959, ...,\n",
      "         --, --, --],\n",
      "        [0.6771653294563293, 0.9488189220428467, 0.9960629940032959, ...,\n",
      "         --, --, --],\n",
      "        [0.3818897604942322, 0.8543307185173035, 0.9960629940032959, ...,\n",
      "         --, --, --]],\n",
      "  mask=[[False, False, False, ...,  True,  True,  True],\n",
      "        [False, False, False, ...,  True,  True,  True],\n",
      "        [False, False, False, ...,  True,  True,  True],\n",
      "        ...,\n",
      "        [False, False, False, ...,  True,  True,  True],\n",
      "        [False, False, False, ...,  True,  True,  True],\n",
      "        [False, False, False, ...,  True,  True,  True]],\n",
      "  fill_value=-9e+33,\n",
      "  dtype=float32)}, 'DOPu': {'long_name': 'unfiltered_degree_of_polarization', 'proposed_standard_name': 'radar_degree_of_polarization', 'units': '', 'sampling_ratio': 1.0, '_FillValue': -9e+33, 'grid_mapping': 'grid_mapping', 'coordinates': 'time range', 'data': masked_array(\n",
      "  data=[[0.9960629940032959, 0.7716535329818726, 0.9566929340362549, ...,\n",
      "         --, --, --],\n",
      "        [0.9960629940032959, 0.8543307185173035, 0.9291338324546814, ...,\n",
      "         --, --, 0.6850393414497375],\n",
      "        [0.9960629940032959, 0.7047244310379028, 0.9645669460296631, ...,\n",
      "         --, --, --],\n",
      "        ...,\n",
      "        [1.0, 0.8976377844810486, 0.9960629940032959, ..., --, --, --],\n",
      "        [0.9960629940032959, 0.9488189220428467, 0.9960629940032959, ...,\n",
      "         --, --, --],\n",
      "        [0.9960629940032959, 0.8503937125205994, 0.9960629940032959, ...,\n",
      "         --, --, --]],\n",
      "  mask=[[False, False, False, ...,  True,  True,  True],\n",
      "        [False, False, False, ...,  True,  True, False],\n",
      "        [False, False, False, ...,  True,  True,  True],\n",
      "        ...,\n",
      "        [False, False, False, ...,  True,  True,  True],\n",
      "        [False, False, False, ...,  True,  True,  True],\n",
      "        [False, False, False, ...,  True,  True,  True]],\n",
      "  fill_value=-9e+33,\n",
      "  dtype=float32)}, 'KDP': {'long_name': 'specific_differential_phase_shift_derived_by_Rainbow_from_PhiDP', 'proposed_standard_name': 'radar_specific_differential_phase_hv', 'units': 'degrees/km', 'sampling_ratio': 1.0, '_FillValue': -9e+33, 'grid_mapping': 'grid_mapping', 'coordinates': 'time range', 'data': masked_array(\n",
      "  data=[[--, --, --, ..., --, --, --],\n",
      "        [--, --, --, ..., --, --, --],\n",
      "        [--, --, --, ..., --, --, --],\n",
      "        ...,\n",
      "        [--, --, --, ..., --, --, --],\n",
      "        [--, --, --, ..., --, --, --],\n",
      "        [--, --, --, ..., --, --, --]],\n",
      "  mask=[[ True,  True,  True, ...,  True,  True,  True],\n",
      "        [ True,  True,  True, ...,  True,  True,  True],\n",
      "        [ True,  True,  True, ...,  True,  True,  True],\n",
      "        ...,\n",
      "        [ True,  True,  True, ...,  True,  True,  True],\n",
      "        [ True,  True,  True, ...,  True,  True,  True],\n",
      "        [ True,  True,  True, ...,  True,  True,  True]],\n",
      "  fill_value=-9e+33,\n",
      "  dtype=float32)}, 'PhiDP': {'long_name': 'differential_phase_shift_filtered_by_Rainbow', 'proposed_standard_name': 'radar_differential_phase_hv', 'units': 'degrees', 'sampling_ratio': 1.0, '_FillValue': -9e+33, 'grid_mapping': 'grid_mapping', 'coordinates': 'time range', 'data': masked_array(\n",
      "  data=[[--, --, --, ..., --, --, --],\n",
      "        [--, --, --, ..., --, --, --],\n",
      "        [--, --, --, ..., --, --, --],\n",
      "        ...,\n",
      "        [--, --, --, ..., --, --, --],\n",
      "        [--, --, --, ..., --, --, --],\n",
      "        [--, --, --, ..., --, --, --]],\n",
      "  mask=[[ True,  True,  True, ...,  True,  True,  True],\n",
      "        [ True,  True,  True, ...,  True,  True,  True],\n",
      "        [ True,  True,  True, ...,  True,  True,  True],\n",
      "        ...,\n",
      "        [ True,  True,  True, ...,  True,  True,  True],\n",
      "        [ True,  True,  True, ...,  True,  True,  True],\n",
      "        [ True,  True,  True, ...,  True,  True,  True]],\n",
      "  fill_value=-9e+33,\n",
      "  dtype=float32)}, 'RhoHV': {'long_name': 'co-polar_cross_correlation_coefficient', 'proposed_standard_name': 'radar_correlation_coefficient_hv', 'units': '', 'sampling_ratio': 1.0, '_FillValue': -9e+33, 'grid_mapping': 'grid_mapping', 'coordinates': 'time range', 'data': masked_array(\n",
      "  data=[[0.5, 0.8622047305107117, 0.9881889820098877, ..., --, --, --],\n",
      "        [0.5236220359802246, 0.5669291615486145, 0.9212598204612732, ...,\n",
      "         --, --, --],\n",
      "        [0.5236220359802246, 0.8307086825370789, 0.9921259880065918, ...,\n",
      "         --, --, --],\n",
      "        ...,\n",
      "        [0.5118110179901123, 0.9015747904777527, 0.9960629940032959, ...,\n",
      "         --, --, --],\n",
      "        [0.4645669162273407, 0.9448819160461426, 0.9960629940032959, ...,\n",
      "         --, --, --],\n",
      "        [0.33070865273475647, 0.8503937125205994, 0.9960629940032959,\n",
      "         ..., --, --, --]],\n",
      "  mask=[[False, False, False, ...,  True,  True,  True],\n",
      "        [False, False, False, ...,  True,  True,  True],\n",
      "        [False, False, False, ...,  True,  True,  True],\n",
      "        ...,\n",
      "        [False, False, False, ...,  True,  True,  True],\n",
      "        [False, False, False, ...,  True,  True,  True],\n",
      "        [False, False, False, ...,  True,  True,  True]],\n",
      "  fill_value=-9e+33,\n",
      "  dtype=float32)}, 'RhoHVu': {'long_name': 'unfiltered_co-polar_cross_correlation_coefficient', 'proposed_standard_name': 'radar_correlation_coefficient_hv', 'units': '', 'sampling_ratio': 1.0, '_FillValue': -9e+33, 'grid_mapping': 'grid_mapping', 'coordinates': 'time range', 'data': masked_array(\n",
      "  data=[[0.9960629940032959, 0.7637795209884644, 0.9488189220428467, ...,\n",
      "         --, --, --],\n",
      "        [0.9960629940032959, 0.8543307185173035, 0.9212598204612732, ...,\n",
      "         --, --, 0.5984252095222473],\n",
      "        [0.9960629940032959, 0.6889764070510864, 0.9566929340362549, ...,\n",
      "         --, --, --],\n",
      "        ...,\n",
      "        [1.0, 0.8937007784843445, 0.9960629940032959, ..., --, --, --],\n",
      "        [0.9960629940032959, 0.9448819160461426, 0.9960629940032959, ...,\n",
      "         --, --, --],\n",
      "        [0.9960629940032959, 0.8464567065238953, 0.9960629940032959, ...,\n",
      "         --, --, --]],\n",
      "  mask=[[False, False, False, ...,  True,  True,  True],\n",
      "        [False, False, False, ...,  True,  True, False],\n",
      "        [False, False, False, ...,  True,  True,  True],\n",
      "        ...,\n",
      "        [False, False, False, ...,  True,  True,  True],\n",
      "        [False, False, False, ...,  True,  True,  True],\n",
      "        [False, False, False, ...,  True,  True,  True]],\n",
      "  fill_value=-9e+33,\n",
      "  dtype=float32)}, 'SNR': {'long_name': 'signal_to_noise_ratio_from_horizontal_polarization', 'proposed_standard_name': 'radar_signal_to_noise_ratio_copolar_h', 'units': 'dB', 'sampling_ratio': 1.0, '_FillValue': -9e+33, 'grid_mapping': 'grid_mapping', 'coordinates': 'time range', 'data': masked_array(\n",
      "  data=[[64.0, 77.0, 68.0, ..., 4.5, 4.5, 6.0],\n",
      "        [65.5, 68.5, 71.5, ..., 4.5, 4.5, 7.0],\n",
      "        [64.0, 75.0, 70.0, ..., 5.5, 5.0, 6.0],\n",
      "        ...,\n",
      "        [64.0, 78.5, 78.5, ..., 0.0, 0.0, 0.0],\n",
      "        [64.0, 81.0, 74.5, ..., 0.0, --, 0.0],\n",
      "        [66.5, 79.0, 74.5, ..., 0.5, --, 0.0]],\n",
      "  mask=[[False, False, False, ..., False, False, False],\n",
      "        [False, False, False, ..., False, False, False],\n",
      "        [False, False, False, ..., False, False, False],\n",
      "        ...,\n",
      "        [False, False, False, ..., False, False, False],\n",
      "        [False, False, False, ..., False,  True, False],\n",
      "        [False, False, False, ..., False,  True, False]],\n",
      "  fill_value=-9e+33,\n",
      "  dtype=float32)}, 'SNRu': {'long_name': 'unfiltered_signal_to_noise_ratio_from_horizontal_polarization', 'proposed_standard_name': 'radar_signal_to_noise_ratio_copolar_h', 'units': 'dB', 'sampling_ratio': 1.0, '_FillValue': -9e+33, 'grid_mapping': 'grid_mapping', 'coordinates': 'time range', 'data': masked_array(\n",
      "  data=[[94.5, 77.5, 69.5, ..., 4.5, 5.0, 6.5],\n",
      "        [94.5, 76.5, 71.5, ..., 5.0, 5.5, 7.5],\n",
      "        [94.5, 76.0, 74.0, ..., 6.0, 5.5, 6.5],\n",
      "        ...,\n",
      "        [94.5, 78.5, 78.5, ..., 0.0, 0.0, 0.0],\n",
      "        [94.5, 81.0, 74.5, ..., 0.5, 0.0, 0.5],\n",
      "        [94.5, 79.0, 74.5, ..., 1.0, 0.0, 0.5]],\n",
      "  mask=[[False, False, False, ..., False, False, False],\n",
      "        [False, False, False, ..., False, False, False],\n",
      "        [False, False, False, ..., False, False, False],\n",
      "        ...,\n",
      "        [False, False, False, ..., False, False, False],\n",
      "        [False, False, False, ..., False, False, False],\n",
      "        [False, False, False, ..., False, False, False]],\n",
      "  fill_value=-9e+33,\n",
      "  dtype=float32)}, 'SNRv': {'long_name': 'signal_to_noise_ratio_from_vertical_polarization', 'proposed_standard_name': 'radar_signal_to_noise_ratio_copolar_v', 'units': 'dB', 'sampling_ratio': 1.0, '_FillValue': -9e+33, 'grid_mapping': 'grid_mapping', 'coordinates': 'time range', 'data': masked_array(\n",
      "  data=[[67.5, 75.0, 65.5, ..., 2.5, 2.0, 3.0],\n",
      "        [67.5, 69.5, 68.5, ..., 2.5, 2.5, 4.0],\n",
      "        [67.0, 73.5, 67.5, ..., 3.0, 3.0, 2.5],\n",
      "        ...,\n",
      "        [65.5, 77.0, 76.0, ..., --, --, --],\n",
      "        [69.5, 78.5, 72.0, ..., --, --, --],\n",
      "        [67.5, 77.5, 72.0, ..., --, --, --]],\n",
      "  mask=[[False, False, False, ..., False, False, False],\n",
      "        [False, False, False, ..., False, False, False],\n",
      "        [False, False, False, ..., False, False, False],\n",
      "        ...,\n",
      "        [False, False, False, ...,  True,  True,  True],\n",
      "        [False, False, False, ...,  True,  True,  True],\n",
      "        [False, False, False, ...,  True,  True,  True]],\n",
      "  fill_value=-9e+33,\n",
      "  dtype=float32)}, 'SNRvu': {'long_name': 'unfiltered_signal_to_noise_ratio_from_vertical_polarization', 'proposed_standard_name': 'radar_signal_to_noise_ratio_copolar_v', 'units': 'dB', 'sampling_ratio': 1.0, '_FillValue': -9e+33, 'grid_mapping': 'grid_mapping', 'coordinates': 'time range', 'data': masked_array(\n",
      "  data=[[92.5, 75.5, 66.0, ..., 3.0, 2.5, 3.5],\n",
      "        [92.5, 76.0, 68.5, ..., 3.0, 3.0, 4.5],\n",
      "        [92.5, 74.0, 69.5, ..., 4.0, 3.5, 3.0],\n",
      "        ...,\n",
      "        [92.5, 77.5, 76.0, ..., --, --, --],\n",
      "        [92.5, 78.5, 72.0, ..., --, --, --],\n",
      "        [92.5, 77.5, 72.0, ..., --, --, --]],\n",
      "  mask=[[False, False, False, ..., False, False, False],\n",
      "        [False, False, False, ..., False, False, False],\n",
      "        [False, False, False, ..., False, False, False],\n",
      "        ...,\n",
      "        [False, False, False, ...,  True,  True,  True],\n",
      "        [False, False, False, ...,  True,  True,  True],\n",
      "        [False, False, False, ...,  True,  True,  True]],\n",
      "  fill_value=-9e+33,\n",
      "  dtype=float32)}, 'SQI': {'long_name': 'signal_quality_index_from_horizontal_polarization', 'proposed_standard_name': 'radar_normalized_coherent_power_copolar_h', 'units': '', 'sampling_ratio': 1.0, '_FillValue': -9e+33, 'grid_mapping': 'grid_mapping', 'coordinates': 'time range', 'data': masked_array(\n",
      "  data=[[0.03149606, 0.9251968 , 0.9448819 , ..., 0.37401575, 0.37795275,\n",
      "         0.2913386 ],\n",
      "        [0.28346458, 0.5787402 , 0.92913383, ..., 0.25984251, 0.5866142 ,\n",
      "         0.31496063],\n",
      "        [0.06692913, 0.88188976, 0.96456695, ..., 0.4566929 , 0.5984252 ,\n",
      "         0.33070865],\n",
      "        ...,\n",
      "        [0.33464566, 0.8976378 , 0.98031497, ..., 0.14173229, 0.39370078,\n",
      "         0.16535433],\n",
      "        [0.10629921, 0.96456695, 0.98031497, ..., 0.13779527, 0.26377952,\n",
      "         0.24015749],\n",
      "        [0.24409449, 0.8976378 , 0.96456695, ..., 0.13385826, 0.13385826,\n",
      "         0.31889763]],\n",
      "  mask=False,\n",
      "  fill_value=1e+20,\n",
      "  dtype=float32)}, 'SQIu': {'long_name': 'unfiltered_signal_quality_index_from_horizontal_polarization', 'proposed_standard_name': 'radar_normalized_coherent_power_copolar_h', 'units': '', 'sampling_ratio': 1.0, '_FillValue': -9e+33, 'grid_mapping': 'grid_mapping', 'coordinates': 'time range', 'data': masked_array(\n",
      "  data=[[1.        , 0.88188976, 0.68503934, ..., 0.39370078, 0.4448819 ,\n",
      "         0.33858266],\n",
      "        [1.        , 0.8976378 , 0.92913383, ..., 0.2952756 , 0.5944882 ,\n",
      "         0.36614174],\n",
      "        [1.        , 0.7992126 , 0.72047246, ..., 0.48031497, 0.6102362 ,\n",
      "         0.39763778],\n",
      "        ...,\n",
      "        [1.        , 0.8937008 , 0.98031497, ..., 0.17322835, 0.37795275,\n",
      "         0.19685039],\n",
      "        [1.        , 0.96062994, 0.97637796, ..., 0.09448819, 0.22440945,\n",
      "         0.22047244],\n",
      "        [1.        , 0.8937008 , 0.96456695, ..., 0.01968504, 0.07086615,\n",
      "         0.24015749]],\n",
      "  mask=False,\n",
      "  fill_value=1e+20,\n",
      "  dtype=float32)}, 'SQIv': {'long_name': 'signal_quality_index_from_vertical_polarization', 'proposed_standard_name': 'radar_normalized_coherent_power_copolar_v', 'units': '', 'sampling_ratio': 1.0, '_FillValue': -9e+33, 'grid_mapping': 'grid_mapping', 'coordinates': 'time range', 'data': masked_array(\n",
      "  data=[[0.06299213, 0.8267717 , 0.9409449 , ..., 0.40944883, 0.2519685 ,\n",
      "         0.43700787],\n",
      "        [0.14173229, 0.32283464, 0.9409449 , ..., 0.54330707, 0.31496063,\n",
      "         0.5       ],\n",
      "        [0.08661418, 0.7992126 , 0.96062994, ..., 0.6692913 , 0.511811  ,\n",
      "         0.35433072],\n",
      "        ...,\n",
      "        [0.2874016 , 0.8385827 , 0.97637796, ..., 0.22440945, 0.36614174,\n",
      "         0.21653543],\n",
      "        [0.19291338, 0.9173228 , 0.97637796, ..., 0.23622048, 0.23622048,\n",
      "         0.18110237],\n",
      "        [0.13779527, 0.7992126 , 0.96850395, ..., 0.24409449, 0.11023622,\n",
      "         0.1496063 ]],\n",
      "  mask=False,\n",
      "  fill_value=1e+20,\n",
      "  dtype=float32)}, 'SQIvu': {'long_name': 'unfiltered_signal_quality_index_from_vertical_polarization', 'proposed_standard_name': 'radar_normalized_coherent_power_copolar_v', 'units': '', 'sampling_ratio': 1.0, '_FillValue': -9e+33, 'grid_mapping': 'grid_mapping', 'coordinates': 'time range', 'data': masked_array(\n",
      "  data=[[0.996063  , 0.7322835 , 0.8425197 , ..., 0.44094488, 0.33858266,\n",
      "         0.47244096],\n",
      "        [0.996063  , 0.8070866 , 0.9409449 , ..., 0.5472441 , 0.36614174,\n",
      "         0.52755904],\n",
      "        [0.996063  , 0.77559054, 0.70472443, ..., 0.6653543 , 0.5472441 ,\n",
      "         0.47244096],\n",
      "        ...,\n",
      "        [0.996063  , 0.8307087 , 0.97637796, ..., 0.09055118, 0.26377952,\n",
      "         0.11417323],\n",
      "        [0.996063  , 0.9133858 , 0.97637796, ..., 0.16535433, 0.18503937,\n",
      "         0.23228346],\n",
      "        [0.996063  , 0.7992126 , 0.96850395, ..., 0.24015749, 0.10629921,\n",
      "         0.3503937 ]],\n",
      "  mask=False,\n",
      "  fill_value=1e+20,\n",
      "  dtype=float32)}, 'V': {'long_name': 'radial_velocity_from_horizontal_polarization', 'proposed_standard_name': 'radial_velocity_of_scatterers_away_from_instrument_h', 'units': 'm/s', 'sampling_ratio': 1.0, '_FillValue': -9e+33, 'grid_mapping': 'grid_mapping', 'coordinates': 'time range', 'data': masked_array(\n",
      "  data=[[--, -11.805511474609375, -11.554330825805664, ..., --, --, --],\n",
      "        [--, -11.805511474609375, -11.805511474609375, ..., --, --, --],\n",
      "        [--, -11.051968574523926, -11.303149223327637, ..., --, --, --],\n",
      "        ...,\n",
      "        [--, 9.544881820678711, 10.29842472076416, ..., --, --, --],\n",
      "        [--, 10.549606323242188, 10.29842472076416, ..., --, --, --],\n",
      "        [--, 9.796063423156738, 10.29842472076416, ..., --, --, --]],\n",
      "  mask=[[ True, False, False, ...,  True,  True,  True],\n",
      "        [ True, False, False, ...,  True,  True,  True],\n",
      "        [ True, False, False, ...,  True,  True,  True],\n",
      "        ...,\n",
      "        [ True, False, False, ...,  True,  True,  True],\n",
      "        [ True, False, False, ...,  True,  True,  True],\n",
      "        [ True, False, False, ...,  True,  True,  True]],\n",
      "  fill_value=-9e+33,\n",
      "  dtype=float32)}, 'Vu': {'long_name': 'unfiltered_radial_velocity_from_horizontal_polarization', 'proposed_standard_name': 'radial_velocity_of_scatterers_away_from_instrument_h', 'units': 'm/s', 'sampling_ratio': 1.0, '_FillValue': -9e+33, 'grid_mapping': 'grid_mapping', 'coordinates': 'time range', 'data': masked_array(\n",
      "  data=[[-12.307873725891113, -12.307873725891113, -12.307873725891113,\n",
      "         ..., --, --, --],\n",
      "        [-12.307873725891113, -12.307873725891113, -12.307873725891113,\n",
      "         ..., --, --, --],\n",
      "        [-12.55905532836914, 0.0, -12.307873725891113, ..., --, --, --],\n",
      "        ...,\n",
      "        [9.293701171875, 9.544881820678711, 10.29842472076416, ..., --,\n",
      "         --, --],\n",
      "        [9.544881820678711, 9.544881820678711, 10.29842472076416, ...,\n",
      "         --, --, --],\n",
      "        [9.544881820678711, 9.544881820678711, 10.29842472076416, ...,\n",
      "         --, --, --]],\n",
      "  mask=[[False, False, False, ...,  True,  True,  True],\n",
      "        [False, False, False, ...,  True,  True,  True],\n",
      "        [False, False, False, ...,  True,  True,  True],\n",
      "        ...,\n",
      "        [False, False, False, ...,  True,  True,  True],\n",
      "        [False, False, False, ...,  True,  True,  True],\n",
      "        [False, False, False, ...,  True,  True,  True]],\n",
      "  fill_value=-9e+33,\n",
      "  dtype=float32)}, 'Vv': {'long_name': 'radial_velocity_from_vertical_polarization', 'proposed_standard_name': 'radial_velocity_of_scatterers_away_from_instrument_v', 'units': 'm/s', 'sampling_ratio': 1.0, '_FillValue': -9e+33, 'grid_mapping': 'grid_mapping', 'coordinates': 'time range', 'data': masked_array(\n",
      "  data=[[--, -11.554330825805664, -11.554330825805664, ..., --, --, --],\n",
      "        [--, -11.554330825805664, -11.805511474609375, ..., --, --, --],\n",
      "        [--, -11.303149223327637, -11.303149223327637, ..., --, --, --],\n",
      "        ...,\n",
      "        [--, 9.544881820678711, 10.29842472076416, ..., --, --, --],\n",
      "        [--, 9.796063423156738, 10.29842472076416, ..., --, --, --],\n",
      "        [--, 10.29842472076416, 10.29842472076416, ..., --, --, --]],\n",
      "  mask=[[ True, False, False, ...,  True,  True,  True],\n",
      "        [ True, False, False, ...,  True,  True,  True],\n",
      "        [ True, False, False, ...,  True,  True,  True],\n",
      "        ...,\n",
      "        [ True, False, False, ...,  True,  True,  True],\n",
      "        [ True, False, False, ...,  True,  True,  True],\n",
      "        [ True, False, False, ...,  True,  True,  True]],\n",
      "  fill_value=-9e+33,\n",
      "  dtype=float32)}, 'Vvu': {'long_name': 'unfiltered_radial_velocity_from_vertical_polarization', 'proposed_standard_name': 'radial_velocity_of_scatterers_away_from_instrument_v', 'units': 'm/s', 'sampling_ratio': 1.0, '_FillValue': -9e+33, 'grid_mapping': 'grid_mapping', 'coordinates': 'time range', 'data': masked_array(\n",
      "  data=[[-12.307873725891113, -11.805511474609375, -11.805511474609375,\n",
      "         ..., --, --, --],\n",
      "        [-12.55905532836914, -12.307873725891113, -12.307873725891113,\n",
      "         ..., --, --, --],\n",
      "        [-12.55905532836914, -12.307873725891113, -12.307873725891113,\n",
      "         ..., --, --, --],\n",
      "        ...,\n",
      "        [9.544881820678711, 9.544881820678711, 10.29842472076416, ...,\n",
      "         --, --, --],\n",
      "        [9.544881820678711, 9.544881820678711, 10.29842472076416, ...,\n",
      "         --, --, --],\n",
      "        [9.544881820678711, 9.796063423156738, 10.29842472076416, ...,\n",
      "         --, --, --]],\n",
      "  mask=[[False, False, False, ...,  True,  True,  True],\n",
      "        [False, False, False, ...,  True,  True,  True],\n",
      "        [False, False, False, ...,  True,  True,  True],\n",
      "        ...,\n",
      "        [False, False, False, ...,  True,  True,  True],\n",
      "        [False, False, False, ...,  True,  True,  True],\n",
      "        [False, False, False, ...,  True,  True,  True]],\n",
      "  fill_value=-9e+33,\n",
      "  dtype=float32)}, 'W': {'long_name': 'spectral_width_from_horizontal_polarization', 'proposed_standard_name': 'radar_doppler_spectrum_width_h', 'units': 'm/s', 'sampling_ratio': 1.0, '_FillValue': -9e+33, 'grid_mapping': 'grid_mapping', 'coordinates': 'time range', 'data': masked_array(\n",
      "  data=[[--, 0.5293989181518555, 0.8408107161521912, ..., --, --, --],\n",
      "        [--, 0.6228224635124207, 0.8719518780708313, ..., --, --,\n",
      "         0.49825772643089294],\n",
      "        [--, 0.5916812419891357, 0.6851047873497009, ..., --, --, --],\n",
      "        ...,\n",
      "        [0.7785283327102661, 0.809669554233551, 0.4359753429889679, ...,\n",
      "         --, --, --],\n",
      "        [--, 0.5293989181518555, 0.5293989181518555, ..., --, --, --],\n",
      "        [--, 0.6228224635124207, 0.5293989181518555, ..., --, --, --]],\n",
      "  mask=[[ True, False, False, ...,  True,  True,  True],\n",
      "        [ True, False, False, ...,  True,  True, False],\n",
      "        [ True, False, False, ...,  True,  True,  True],\n",
      "        ...,\n",
      "        [False, False, False, ...,  True,  True,  True],\n",
      "        [ True, False, False, ...,  True,  True,  True],\n",
      "        [ True, False, False, ...,  True,  True,  True]],\n",
      "  fill_value=-9e+33,\n",
      "  dtype=float32)}, 'Wu': {'long_name': 'unfiltered_spectral_width_from_horizontal_polarization', 'proposed_standard_name': 'doppler_spectrum_width_h', 'units': 'm/s', 'sampling_ratio': 1.0, '_FillValue': -9e+33, 'grid_mapping': 'grid_mapping', 'coordinates': 'time range', 'data': masked_array(\n",
      "  data=[[--, --, 0.3114106357097626, ..., --, --, --],\n",
      "        [--, 0.5293989181518555, 0.8719518780708313, ..., --,\n",
      "         1.0276577472686768, 1.4013519287109375],\n",
      "        [--, --, 1.4013519287109375, ..., --, --, --],\n",
      "        ...,\n",
      "        [--, --, --, ..., --, --, --],\n",
      "        [--, 1.3702107667922974, 0.5293989181518555, ..., --, --, --],\n",
      "        [--, --, --, ..., --, --, --]],\n",
      "  mask=[[ True,  True, False, ...,  True,  True,  True],\n",
      "        [ True, False, False, ...,  True, False, False],\n",
      "        [ True,  True, False, ...,  True,  True,  True],\n",
      "        ...,\n",
      "        [ True,  True,  True, ...,  True,  True,  True],\n",
      "        [ True, False, False, ...,  True,  True,  True],\n",
      "        [ True,  True,  True, ...,  True,  True,  True]],\n",
      "  fill_value=-9e+33,\n",
      "  dtype=float32)}, 'Wv': {'long_name': 'spectral_width_from_vertical_polarization', 'proposed_standard_name': 'doppler_spectrum_width_v', 'units': 'm/s', 'sampling_ratio': 1.0, '_FillValue': -9e+33, 'grid_mapping': 'grid_mapping', 'coordinates': 'time range', 'data': masked_array(\n",
      "  data=[[--, 0.4359753429889679, 0.8408107161521912, ..., --, --, --],\n",
      "        [--, 1.276787281036377, 0.7785283327102661, ..., --, --, --],\n",
      "        [--, 0.6228224635124207, 0.7162460088729858, ..., --, --, --],\n",
      "        ...,\n",
      "        [--, 0.809669554233551, 0.4671165347099304, ..., --, --, --],\n",
      "        [--, 0.5605400800704956, 0.5293989181518555, ..., --, --, --],\n",
      "        [--, 0.7162460088729858, 0.49825772643089294, ..., --, --, --]],\n",
      "  mask=[[ True, False, False, ...,  True,  True,  True],\n",
      "        [ True, False, False, ...,  True,  True,  True],\n",
      "        [ True, False, False, ...,  True,  True,  True],\n",
      "        ...,\n",
      "        [ True, False, False, ...,  True,  True,  True],\n",
      "        [ True, False, False, ...,  True,  True,  True],\n",
      "        [ True, False, False, ...,  True,  True,  True]],\n",
      "  fill_value=-9e+33,\n",
      "  dtype=float32)}, 'Wvu': {'long_name': 'unfiltered_spectral_width_from_vertical_polarization', 'proposed_standard_name': 'doppler_spectrum_width_v', 'units': 'm/s', 'sampling_ratio': 1.0, '_FillValue': -9e+33, 'grid_mapping': 'grid_mapping', 'coordinates': 'time range', 'data': masked_array(\n",
      "  data=[[--, --, --, ..., --, --, --],\n",
      "        [0.062281180173158646, 0.3425517976284027, 0.7785283327102661,\n",
      "         ..., --, --, 1.4013519287109375],\n",
      "        [--, --, 0.7162460088729858, ..., --, --, --],\n",
      "        ...,\n",
      "        [--, --, --, ..., --, --, --],\n",
      "        [0.062281180173158646, 1.3702107667922974, 0.4671165347099304,\n",
      "         ..., --, --, --],\n",
      "        [--, --, --, ..., --, --, --]],\n",
      "  mask=[[ True,  True,  True, ...,  True,  True,  True],\n",
      "        [False, False, False, ...,  True,  True, False],\n",
      "        [ True,  True, False, ...,  True,  True,  True],\n",
      "        ...,\n",
      "        [ True,  True,  True, ...,  True,  True,  True],\n",
      "        [False, False, False, ...,  True,  True,  True],\n",
      "        [ True,  True,  True, ...,  True,  True,  True]],\n",
      "  fill_value=-9e+33,\n",
      "  dtype=float32)}, 'ZDR': {'long_name': 'differential_reflectivity', 'proposed_standard_name': 'radar_differential_reflectivity_hv', 'units': 'dB', 'sampling_ratio': 1.0, '_FillValue': -9e+33, 'grid_mapping': 'grid_mapping', 'coordinates': 'time range', 'data': masked_array(\n",
      "  data=[[--, 0.18897637724876404, 0.5826771855354309, ..., --, --, --],\n",
      "        [-4.22047233581543, -3.118110179901123, 0.8976377844810486, ...,\n",
      "         --, --, --],\n",
      "        [--, -0.4409448802471161, 0.34645670652389526, ..., --, --, --],\n",
      "        ...,\n",
      "        [--, -0.6771653294563293, 0.5039370059967041, ..., --, --, --],\n",
      "        [--, 0.5039370059967041, 0.6614173054695129, ..., --, --, --],\n",
      "        [-3.4330708980560303, -0.12598425149917603, 0.5039370059967041,\n",
      "         ..., --, --, --]],\n",
      "  mask=[[ True, False, False, ...,  True,  True,  True],\n",
      "        [False, False, False, ...,  True,  True,  True],\n",
      "        [ True, False, False, ...,  True,  True,  True],\n",
      "        ...,\n",
      "        [ True, False, False, ...,  True,  True,  True],\n",
      "        [ True, False, False, ...,  True,  True,  True],\n",
      "        [False, False, False, ...,  True,  True,  True]],\n",
      "  fill_value=-9e+33,\n",
      "  dtype=float32)}, 'ZDRu': {'long_name': 'unfiltered_differential_reflectivity', 'proposed_standard_name': 'radar_differential_reflectivity_hv', 'units': 'dB', 'sampling_ratio': 1.0, '_FillValue': -9e+33, 'grid_mapping': 'grid_mapping', 'coordinates': 'time range', 'data': masked_array(\n",
      "  data=[[0.031496062874794006, -0.20472441613674164, 1.8425196409225464,\n",
      "         ..., --, --, --],\n",
      "        [0.11023622006177902, -1.2283464670181274, 0.8976377844810486,\n",
      "         ..., --, --, 2.236220359802246],\n",
      "        [0.18897637724876404, 0.031496062874794006, 2.4724409580230713,\n",
      "         ..., --, --, --],\n",
      "        ...,\n",
      "        [-0.04724409431219101, -0.7559055089950562, 0.5039370059967041,\n",
      "         ..., --, --, --],\n",
      "        [-0.36220473051071167, 0.5039370059967041, 0.6614173054695129,\n",
      "         ..., --, --, --],\n",
      "        [-0.20472441613674164, -0.12598425149917603, 0.5039370059967041,\n",
      "         ..., --, --, --]],\n",
      "  mask=[[False, False, False, ...,  True,  True,  True],\n",
      "        [False, False, False, ...,  True,  True, False],\n",
      "        [False, False, False, ...,  True,  True,  True],\n",
      "        ...,\n",
      "        [False, False, False, ...,  True,  True,  True],\n",
      "        [False, False, False, ...,  True,  True,  True],\n",
      "        [False, False, False, ...,  True,  True,  True]],\n",
      "  fill_value=-9e+33,\n",
      "  dtype=float32)}, 'dBZ': {'long_name': 'reflectivity_from_horizontal_polarization', 'proposed_standard_name': 'radar_equivalent_reflectivity_factor_h', 'units': 'dBZ', 'sampling_ratio': 1.0, '_FillValue': -9e+33, 'grid_mapping': 'grid_mapping', 'coordinates': 'time range', 'data': masked_array(\n",
      "  data=[[--, 26.5, 22.0, ..., 12.0, 12.0, 14.5],\n",
      "        [5.5, 18.0, 25.5, ..., 12.0, 12.5, 15.5],\n",
      "        [--, 24.5, 24.0, ..., 13.5, 13.0, 14.5],\n",
      "        ...,\n",
      "        [--, 28.0, 32.5, ..., --, --, --],\n",
      "        [--, 30.5, 28.5, ..., --, --, --],\n",
      "        [6.0, 28.5, 28.5, ..., --, --, --]],\n",
      "  mask=[[ True, False, False, ..., False, False, False],\n",
      "        [False, False, False, ..., False, False, False],\n",
      "        [ True, False, False, ..., False, False, False],\n",
      "        ...,\n",
      "        [ True, False, False, ...,  True,  True,  True],\n",
      "        [ True, False, False, ...,  True,  True,  True],\n",
      "        [False, False, False, ...,  True,  True,  True]],\n",
      "  fill_value=-9e+33,\n",
      "  dtype=float32)}, 'dBZv': {'long_name': 'reflectivity_from_vertical_polarization', 'proposed_standard_name': 'radar_equivalent_reflectivity_factor_v', 'units': 'dBZ', 'sampling_ratio': 1.0, '_FillValue': -9e+33, 'grid_mapping': 'grid_mapping', 'coordinates': 'time range', 'data': masked_array(\n",
      "  data=[[9.5, 26.5, 21.5, ..., --, --, --],\n",
      "        [9.5, 21.0, 24.5, ..., --, --, --],\n",
      "        [9.0, 25.0, 23.5, ..., --, --, --],\n",
      "        ...,\n",
      "        [7.5, 28.5, 32.0, ..., --, --, --],\n",
      "        [11.0, 30.0, 28.0, ..., --, --, --],\n",
      "        [9.5, 29.0, 28.0, ..., --, --, --]],\n",
      "  mask=[[False, False, False, ...,  True,  True,  True],\n",
      "        [False, False, False, ...,  True,  True,  True],\n",
      "        [False, False, False, ...,  True,  True,  True],\n",
      "        ...,\n",
      "        [False, False, False, ...,  True,  True,  True],\n",
      "        [False, False, False, ...,  True,  True,  True],\n",
      "        [False, False, False, ...,  True,  True,  True]],\n",
      "  fill_value=-9e+33,\n",
      "  dtype=float32)}, 'dBuZ': {'long_name': 'unfiltered_reflectivity_from_horizontal_polarization', 'proposed_standard_name': 'radar_equivalent_reflectivity_factor_h', 'units': 'dBZ', 'sampling_ratio': 1.0, '_FillValue': -9e+33, 'grid_mapping': 'grid_mapping', 'coordinates': 'time range', 'data': masked_array(\n",
      "  data=[[34.5, 26.5, 23.5, ..., 12.5, 13.0, 15.0],\n",
      "        [34.5, 26.0, 25.5, ..., 12.5, 13.0, 16.0],\n",
      "        [34.5, 25.5, 28.0, ..., 14.0, 13.5, 15.0],\n",
      "        ...,\n",
      "        [34.5, 28.0, 32.5, ..., --, --, --],\n",
      "        [34.5, 30.5, 28.5, ..., --, --, --],\n",
      "        [34.5, 28.5, 28.5, ..., --, --, --]],\n",
      "  mask=[[False, False, False, ..., False, False, False],\n",
      "        [False, False, False, ..., False, False, False],\n",
      "        [False, False, False, ..., False, False, False],\n",
      "        ...,\n",
      "        [False, False, False, ...,  True,  True,  True],\n",
      "        [False, False, False, ...,  True,  True,  True],\n",
      "        [False, False, False, ...,  True,  True,  True]],\n",
      "  fill_value=-9e+33,\n",
      "  dtype=float32)}, 'dBuZv': {'long_name': 'unfiltered_reflectivity_from_vertical_polarization', 'proposed_standard_name': 'radar_equivalent_reflectivity_factor_v', 'units': 'dBZ', 'sampling_ratio': 1.0, '_FillValue': -9e+33, 'grid_mapping': 'grid_mapping', 'coordinates': 'time range', 'data': masked_array(\n",
      "  data=[[34.5, 27.0, 22.0, ..., --, --, --],\n",
      "        [34.5, 27.5, 24.5, ..., --, --, 14.0],\n",
      "        [34.5, 25.5, 25.5, ..., --, --, --],\n",
      "        ...,\n",
      "        [34.5, 29.0, 32.0, ..., --, --, --],\n",
      "        [34.5, 30.0, 28.0, ..., --, --, --],\n",
      "        [34.5, 29.0, 28.0, ..., --, --, --]],\n",
      "  mask=[[False, False, False, ...,  True,  True,  True],\n",
      "        [False, False, False, ...,  True,  True, False],\n",
      "        [False, False, False, ...,  True,  True,  True],\n",
      "        ...,\n",
      "        [False, False, False, ...,  True,  True,  True],\n",
      "        [False, False, False, ...,  True,  True,  True],\n",
      "        [False, False, False, ...,  True,  True,  True]],\n",
      "  fill_value=-9e+33,\n",
      "  dtype=float32)}, 'uKDP': {'long_name': 'specific_differential_phase_shift_derived_by_signal_processor(GDRX)', 'proposed_standard_name': 'radar_specific_differential_phase_hv', 'units': 'degrees/km', 'sampling_ratio': 1.0, '_FillValue': -9e+33, 'grid_mapping': 'grid_mapping', 'coordinates': 'time range', 'data': masked_array(\n",
      "  data=[[--, --, --, ..., --, --, --],\n",
      "        [--, --, --, ..., --, --, --],\n",
      "        [--, --, --, ..., --, --, --],\n",
      "        ...,\n",
      "        [--, --, --, ..., --, --, --],\n",
      "        [--, --, --, ..., --, --, --],\n",
      "        [--, --, --, ..., --, --, --]],\n",
      "  mask=[[ True,  True,  True, ...,  True,  True,  True],\n",
      "        [ True,  True,  True, ...,  True,  True,  True],\n",
      "        [ True,  True,  True, ...,  True,  True,  True],\n",
      "        ...,\n",
      "        [ True,  True,  True, ...,  True,  True,  True],\n",
      "        [ True,  True,  True, ...,  True,  True,  True],\n",
      "        [ True,  True,  True, ...,  True,  True,  True]],\n",
      "  fill_value=-9e+33,\n",
      "  dtype=float32)}, 'uKDPu': {'long_name': 'unfiltered_specific_differential_phase_shift_derived_by_signal_processor(GDRX)', 'proposed_standard_name': 'radar_specific_differential_phase_hv', 'units': 'degrees/km', 'sampling_ratio': 1.0, '_FillValue': -9e+33, 'grid_mapping': 'grid_mapping', 'coordinates': 'time range', 'data': masked_array(\n",
      "  data=[[1.7322834730148315, 1.8897638320922852, 1.8110235929489136, ...,\n",
      "         --, --, --],\n",
      "        [3.149606227874756, 2.8346457481384277, 2.4409449100494385, ...,\n",
      "         --, --, --],\n",
      "        [1.3385826349258423, 1.7322834730148315, 1.8110235929489136, ...,\n",
      "         --, --, --],\n",
      "        ...,\n",
      "        [2.7559056282043457, 2.3622047901153564, 2.1259841918945312, ...,\n",
      "         --, --, --],\n",
      "        [2.1259841918945312, 1.8897638320922852, 1.8897638320922852, ...,\n",
      "         --, --, --],\n",
      "        [2.3622047901153564, 2.2047243118286133, 2.047244071960449, ...,\n",
      "         --, --, --]],\n",
      "  mask=[[False, False, False, ...,  True,  True,  True],\n",
      "        [False, False, False, ...,  True,  True,  True],\n",
      "        [False, False, False, ...,  True,  True,  True],\n",
      "        ...,\n",
      "        [False, False, False, ...,  True,  True,  True],\n",
      "        [False, False, False, ...,  True,  True,  True],\n",
      "        [False, False, False, ...,  True,  True,  True]],\n",
      "  fill_value=-9e+33,\n",
      "  dtype=float32)}, 'uPhiDP': {'long_name': 'differential_phase_shift_derived_by_signal_processor(GDRX)', 'proposed_standard_name': 'radar_differential_phase_hv', 'units': 'degrees', 'sampling_ratio': 1.0, '_FillValue': -9e+33, 'grid_mapping': 'grid_mapping', 'coordinates': 'time range', 'data': masked_array(\n",
      "  data=[[317.4431457519531, 84.89944458007812, 87.60215759277344, ...,\n",
      "         --, --, --],\n",
      "        [322.5464782714844, 31.888790130615234, 72.41859436035156, ...,\n",
      "         --, --, --],\n",
      "        [307.0168151855469, 83.50413513183594, 88.25586700439453, ...,\n",
      "         --, --, --],\n",
      "        ...,\n",
      "        [311.6641845703125, 83.67443084716797, 82.95480346679688, ...,\n",
      "         --, --, --],\n",
      "        [308.5879211425781, 88.6623764038086, 85.25650787353516, ..., --,\n",
      "         --, --],\n",
      "        [324.0076904296875, 83.02621459960938, 86.04205322265625, ...,\n",
      "         --, --, --]],\n",
      "  mask=[[False, False, False, ...,  True,  True,  True],\n",
      "        [False, False, False, ...,  True,  True,  True],\n",
      "        [False, False, False, ...,  True,  True,  True],\n",
      "        ...,\n",
      "        [False, False, False, ...,  True,  True,  True],\n",
      "        [False, False, False, ...,  True,  True,  True],\n",
      "        [False, False, False, ...,  True,  True,  True]],\n",
      "  fill_value=-9e+33,\n",
      "  dtype=float32)}, 'uPhiDPu': {'long_name': 'unfiltered_differential_phase_shift_derived_by_signal_processor(GDRX)', 'proposed_standard_name': 'radar_differential_phase_hv', 'units': 'degrees', 'sampling_ratio': 1.0, '_FillValue': -9e+33, 'grid_mapping': 'grid_mapping', 'coordinates': 'time range', 'data': masked_array(\n",
      "  data=[[55.306861877441406, 78.82381439208984, 87.66259002685547, ...,\n",
      "         --, --, --],\n",
      "        [54.82345199584961, 82.69661712646484, 72.41859436035156, ...,\n",
      "         --, --, 120.0787353515625],\n",
      "        [56.46595764160156, 83.77880096435547, 85.06973266601562, ...,\n",
      "         --, --, --],\n",
      "        ...,\n",
      "        [58.20185089111328, 83.46018981933594, 82.96029663085938, ...,\n",
      "         --, --, --],\n",
      "        [58.064517974853516, 88.6513900756836, 85.25101470947266, ...,\n",
      "         --, --, --],\n",
      "        [58.22931671142578, 83.03170776367188, 85.98162841796875, ...,\n",
      "         --, --, --]],\n",
      "  mask=[[False, False, False, ...,  True,  True,  True],\n",
      "        [False, False, False, ...,  True,  True, False],\n",
      "        [False, False, False, ...,  True,  True,  True],\n",
      "        ...,\n",
      "        [False, False, False, ...,  True,  True,  True],\n",
      "        [False, False, False, ...,  True,  True,  True],\n",
      "        [False, False, False, ...,  True,  True,  True]],\n",
      "  fill_value=-9e+33,\n",
      "  dtype=float32)}}\n"
     ]
    }
   ],
   "source": [
    "print(radar.fields)"
   ]
  },
  {
   "cell_type": "code",
   "execution_count": 13,
   "id": "prescribed-sponsorship",
   "metadata": {},
   "outputs": [
    {
     "name": "stdout",
     "output_type": "stream",
     "text": [
      "dict_keys(['CCOR', 'CCORv', 'DOP', 'DOPu', 'KDP', 'PhiDP', 'RhoHV', 'RhoHVu', 'SNR', 'SNRu', 'SNRv', 'SNRvu', 'SQI', 'SQIu', 'SQIv', 'SQIvu', 'V', 'Vu', 'Vv', 'Vvu', 'W', 'Wu', 'Wv', 'Wvu', 'ZDR', 'ZDRu', 'dBZ', 'dBZv', 'dBuZ', 'dBuZv', 'uKDP', 'uKDPu', 'uPhiDP', 'uPhiDPu'])\n"
     ]
    }
   ],
   "source": [
    "print(radar.fields.keys())"
   ]
  },
  {
   "cell_type": "markdown",
   "id": "58f9b34f-73f4-48d6-8a9b-1aa8824a6ce2",
   "metadata": {},
   "source": [
    "While these dictionary keys give us a hint at what the fields may contain we can use the **long_name** convention from CF along with some standard methods from python to gain a little more insight about all of these fields with a simple python loop."
   ]
  },
  {
   "cell_type": "code",
   "execution_count": 14,
   "id": "14aa6281-7646-4b68-be5c-d5061433a04e",
   "metadata": {},
   "outputs": [
    {
     "name": "stdout",
     "output_type": "stream",
     "text": [
      "CCOR: clutter_correction_ratio_from_horizontal_polarization\n",
      "CCORv: clutter_correction_ratio_from_vertical_polarization\n",
      "DOP: degree_of_polarization\n",
      "DOPu: unfiltered_degree_of_polarization\n",
      "KDP: specific_differential_phase_shift_derived_by_Rainbow_from_PhiDP\n",
      "PhiDP: differential_phase_shift_filtered_by_Rainbow\n",
      "RhoHV: co-polar_cross_correlation_coefficient\n",
      "RhoHVu: unfiltered_co-polar_cross_correlation_coefficient\n",
      "SNR: signal_to_noise_ratio_from_horizontal_polarization\n",
      "SNRu: unfiltered_signal_to_noise_ratio_from_horizontal_polarization\n",
      "SNRv: signal_to_noise_ratio_from_vertical_polarization\n",
      "SNRvu: unfiltered_signal_to_noise_ratio_from_vertical_polarization\n",
      "SQI: signal_quality_index_from_horizontal_polarization\n",
      "SQIu: unfiltered_signal_quality_index_from_horizontal_polarization\n",
      "SQIv: signal_quality_index_from_vertical_polarization\n",
      "SQIvu: unfiltered_signal_quality_index_from_vertical_polarization\n",
      "V: radial_velocity_from_horizontal_polarization\n",
      "Vu: unfiltered_radial_velocity_from_horizontal_polarization\n",
      "Vv: radial_velocity_from_vertical_polarization\n",
      "Vvu: unfiltered_radial_velocity_from_vertical_polarization\n",
      "W: spectral_width_from_horizontal_polarization\n",
      "Wu: unfiltered_spectral_width_from_horizontal_polarization\n",
      "Wv: spectral_width_from_vertical_polarization\n",
      "Wvu: unfiltered_spectral_width_from_vertical_polarization\n",
      "ZDR: differential_reflectivity\n",
      "ZDRu: unfiltered_differential_reflectivity\n",
      "dBZ: reflectivity_from_horizontal_polarization\n",
      "dBZv: reflectivity_from_vertical_polarization\n",
      "dBuZ: unfiltered_reflectivity_from_horizontal_polarization\n",
      "dBuZv: unfiltered_reflectivity_from_vertical_polarization\n",
      "uKDP: specific_differential_phase_shift_derived_by_signal_processor(GDRX)\n",
      "uKDPu: unfiltered_specific_differential_phase_shift_derived_by_signal_processor(GDRX)\n",
      "uPhiDP: differential_phase_shift_derived_by_signal_processor(GDRX)\n",
      "uPhiDPu: unfiltered_differential_phase_shift_derived_by_signal_processor(GDRX)\n"
     ]
    }
   ],
   "source": [
    "for key in radar.fields.keys():\n",
    "    print('{}: {}'.format(key, radar.fields[key]['long_name']))"
   ]
  },
  {
   "cell_type": "markdown",
   "id": "3e9fd9a1-6128-4bc8-97e3-1a3de5009e75",
   "metadata": {},
   "source": [
    "Other possible options would be **standard_name** and **proposed_standard_name** depending on whether the field in question has an accepted standard name within the CF conventions (link). For example we can look at the field 'dBuZ' in more detail to see what other items are contained within its dictionary."
   ]
  },
  {
   "cell_type": "code",
   "execution_count": 15,
   "id": "3f32ff64-30db-402e-bbc3-bfdc0d1de51f",
   "metadata": {},
   "outputs": [
    {
     "name": "stdout",
     "output_type": "stream",
     "text": [
      "{'long_name': 'unfiltered_reflectivity_from_horizontal_polarization', 'proposed_standard_name': 'radar_equivalent_reflectivity_factor_h', 'units': 'dBZ', 'sampling_ratio': 1.0, '_FillValue': -9e+33, 'grid_mapping': 'grid_mapping', 'coordinates': 'time range', 'data': masked_array(\n",
      "  data=[[34.5, 26.5, 23.5, ..., 12.5, 13.0, 15.0],\n",
      "        [34.5, 26.0, 25.5, ..., 12.5, 13.0, 16.0],\n",
      "        [34.5, 25.5, 28.0, ..., 14.0, 13.5, 15.0],\n",
      "        ...,\n",
      "        [34.5, 28.0, 32.5, ..., --, --, --],\n",
      "        [34.5, 30.5, 28.5, ..., --, --, --],\n",
      "        [34.5, 28.5, 28.5, ..., --, --, --]],\n",
      "  mask=[[False, False, False, ..., False, False, False],\n",
      "        [False, False, False, ..., False, False, False],\n",
      "        [False, False, False, ..., False, False, False],\n",
      "        ...,\n",
      "        [False, False, False, ...,  True,  True,  True],\n",
      "        [False, False, False, ...,  True,  True,  True],\n",
      "        [False, False, False, ...,  True,  True,  True]],\n",
      "  fill_value=-9e+33,\n",
      "  dtype=float32)}\n"
     ]
    }
   ],
   "source": [
    "print(radar.fields['dBuZ'])"
   ]
  },
  {
   "cell_type": "markdown",
   "id": "c6ea203a-3793-4786-bb5d-555d756e278e",
   "metadata": {},
   "source": [
    "In the case of **'dBuZ'** it has a proposed standard name of 'radar_equivalent_reflectivity_factor_h' and units of 'dBZ'. We can also see the values of dBuZ are stored under the 'data' key. Again to determine the mean value of **dBuZ** we can use numpy to interogate the data."
   ]
  },
  {
   "cell_type": "code",
   "execution_count": 16,
   "id": "prerequisite-wisdom",
   "metadata": {},
   "outputs": [
    {
     "name": "stdout",
     "output_type": "stream",
     "text": [
      "17.900267320082516\n"
     ]
    }
   ],
   "source": [
    "print(np.mean(radar.fields['dBuZ']['data']))"
   ]
  },
  {
   "cell_type": "markdown",
   "id": "7b1b1d48-ed0c-42d8-87d4-4e04c28c3f38",
   "metadata": {},
   "source": [
    "#### Exercise 1\n",
    "\n",
    "*(10/15 minutes in pairs)*\n",
    "\n",
    "Using the information found in the ```radar.info``` print information, the dictionaries within the radar object and principles from the first lecture answer the following questions about the example file:\n",
    "\n",
    "1. Where was the radar located while collecting this data?"
   ]
  },
  {
   "cell_type": "code",
   "execution_count": null,
   "id": "sacred-alexander",
   "metadata": {},
   "outputs": [],
   "source": []
  },
  {
   "cell_type": "code",
   "execution_count": null,
   "id": "personal-circulation",
   "metadata": {},
   "outputs": [],
   "source": []
  },
  {
   "cell_type": "markdown",
   "id": "painful-egypt",
   "metadata": {},
   "source": [
    "2. What is the gate spacing of the radar data and how many gates were collected for each ray? Remember radar data typically has two dimensions (time and range)\n"
   ]
  },
  {
   "cell_type": "code",
   "execution_count": null,
   "id": "configured-console",
   "metadata": {},
   "outputs": [],
   "source": []
  },
  {
   "cell_type": "code",
   "execution_count": null,
   "id": "civic-death",
   "metadata": {},
   "outputs": [],
   "source": []
  },
  {
   "cell_type": "markdown",
   "id": "thorough-deposit",
   "metadata": {},
   "source": [
    "3. What frequency and wavelength was the radar operating at?"
   ]
  },
  {
   "cell_type": "code",
   "execution_count": null,
   "id": "mighty-columbia",
   "metadata": {},
   "outputs": [],
   "source": []
  },
  {
   "cell_type": "code",
   "execution_count": null,
   "id": "useful-elizabeth",
   "metadata": {},
   "outputs": [],
   "source": []
  },
  {
   "cell_type": "markdown",
   "id": "copyrighted-france",
   "metadata": {},
   "source": [
    "4. What is the maximum reflectivity recorded within the file?"
   ]
  },
  {
   "cell_type": "code",
   "execution_count": null,
   "id": "portable-grill",
   "metadata": {},
   "outputs": [],
   "source": []
  },
  {
   "cell_type": "code",
   "execution_count": null,
   "id": "covered-norwegian",
   "metadata": {},
   "outputs": [],
   "source": []
  },
  {
   "cell_type": "markdown",
   "id": "selective-insert",
   "metadata": {},
   "source": [
    "5. Who could you contact if you want more information about the radar files?"
   ]
  },
  {
   "cell_type": "code",
   "execution_count": null,
   "id": "reduced-webster",
   "metadata": {},
   "outputs": [],
   "source": []
  },
  {
   "cell_type": "code",
   "execution_count": null,
   "id": "enclosed-piano",
   "metadata": {},
   "outputs": [],
   "source": []
  },
  {
   "cell_type": "markdown",
   "id": "da82ac71-1a8b-4719-881b-db09b58fd534",
   "metadata": {},
   "source": [
    "##### Answers"
   ]
  },
  {
   "cell_type": "markdown",
   "id": "9f4ec40b-9f2b-4aef-b578-daf95b88af6c",
   "metadata": {},
   "source": [
    "**1. Radar location**\n",
    "\n",
    "Reading through the ```radar.info(level=compact)``` output we can answer this without any additional python calls. The \"platform_location\" tells us the latitude and longitude of the radar: 54 31 03 N (54.51761),  3 36 54 W (-3.61508). However it may also be useful to obtain this information pythonically (say in a script), so here we can see a couple of alternative solutions. Reading the metadata section also tells us that the radar is located at \"Sandwith\" which is a United Utilities reservoir in the UK (see \"title\" and \"location_keywords\")."
   ]
  },
  {
   "cell_type": "code",
   "execution_count": 17,
   "id": "fdae5235-4998-469a-ba66-99fcc01c4c17",
   "metadata": {},
   "outputs": [
    {
     "name": "stdout",
     "output_type": "stream",
     "text": [
      "54 31 03 N (54.51761),  3 36 54 W (-3.61508)\n"
     ]
    }
   ],
   "source": [
    "print(radar.metadata['platform_location'])"
   ]
  },
  {
   "cell_type": "code",
   "execution_count": 18,
   "id": "8f22c713-e213-48ae-9e9b-b730b744007b",
   "metadata": {},
   "outputs": [
    {
     "name": "stdout",
     "output_type": "stream",
     "text": [
      "{'long_name': 'latitude', 'units': 'degrees_north', '_FillValue': -9999.0, 'data': masked_array(data=[54.51761],\n",
      "             mask=False,\n",
      "       fill_value=1e+20)}\n",
      "{'long_name': 'longitude', 'units': 'degrees_east', '_FillValue': -9999.0, 'data': masked_array(data=[-3.61508],\n",
      "             mask=False,\n",
      "       fill_value=1e+20)}\n",
      "The radar is located at 54.51761, -3.61508\n"
     ]
    }
   ],
   "source": [
    "print(radar.latitude)\n",
    "print(radar.longitude)\n",
    "print('The radar is located at {}, {}'.format(radar.latitude['data'][0], radar.longitude['data'][0]))"
   ]
  },
  {
   "cell_type": "markdown",
   "id": "fc17c3ea-c8ce-422e-9358-d8e2a0a8b8e8",
   "metadata": {},
   "source": [
    "**2. Radar gate spacing**\n",
    "\n",
    "The radar gate spacing isn't found within the instrument parameters. We can find the number of gates as an individual attribute of the radar object (```radar.ngates```) but need to intergoate the ```radar.range``` attribute to find the gate spacing. The length of the data within the range attribute also indicates the number of gates within each ray in the file."
   ]
  },
  {
   "cell_type": "code",
   "execution_count": 19,
   "id": "d56b9fde-7733-4338-b364-e1825d47afc7",
   "metadata": {},
   "outputs": [
    {
     "name": "stdout",
     "output_type": "stream",
     "text": [
      " The radar object has 1000 range gates.\n"
     ]
    }
   ],
   "source": [
    "print(' The radar object has {} range gates.'.format(radar.ngates))"
   ]
  },
  {
   "cell_type": "code",
   "execution_count": 20,
   "id": "3f4de477-8802-444d-861b-4e679fc14634",
   "metadata": {},
   "outputs": [
    {
     "data": {
      "text/plain": [
       "dict_keys(['long_name', 'units', 'spacing_is_constant', 'meters_to_center_of_first_gate', 'meters_between_gates', 'data'])"
      ]
     },
     "execution_count": 20,
     "metadata": {},
     "output_type": "execute_result"
    }
   ],
   "source": [
    "radar.range.keys()"
   ]
  },
  {
   "cell_type": "code",
   "execution_count": 21,
   "id": "coordinate-veteran",
   "metadata": {},
   "outputs": [
    {
     "data": {
      "text/plain": [
       "150.00000596046448"
      ]
     },
     "execution_count": 21,
     "metadata": {},
     "output_type": "execute_result"
    }
   ],
   "source": [
    "radar.range['meters_between_gates']"
   ]
  },
  {
   "cell_type": "markdown",
   "id": "c55d199f-d40c-4b65-ab8a-7db8fea18e88",
   "metadata": {},
   "source": [
    "This shows us that the 'metres between gates' i.e. the gate spacing, is 150 metres (subject to floating point accuracy). To avoid the floating point error propagating the following code snippet could be sensible for use within a script, though it may not be necessary depending on the usage:"
   ]
  },
  {
   "cell_type": "code",
   "execution_count": 22,
   "id": "edecd508-e70b-4247-aa55-97b66cef7f89",
   "metadata": {},
   "outputs": [
    {
     "name": "stdout",
     "output_type": "stream",
     "text": [
      "150.0\n"
     ]
    }
   ],
   "source": [
    "gate_spacing = np.float16(radar.range['meters_between_gates'])\n",
    "print(gate_spacing)"
   ]
  },
  {
   "cell_type": "markdown",
   "id": "561ff753-855c-4a67-b1cf-b43082cd7f0a",
   "metadata": {},
   "source": [
    "**3. Frequency and wavelength**\n",
    "\n",
    "We can see that frequency is contained within the instrument parameters attribute of the radar object (using ```radar.info```). We can start by investigating that."
   ]
  },
  {
   "cell_type": "code",
   "execution_count": 23,
   "id": "981b8593-4403-44c4-99b8-b4d615761312",
   "metadata": {},
   "outputs": [
    {
     "data": {
      "text/plain": [
       "{'long_name': 'transmission_frequency',\n",
       " 'units': 's-1',\n",
       " '_FillValue': -9999.0,\n",
       " 'meta_group': 'instrument_parameters',\n",
       " 'data': masked_array(data=[9.40083e+09],\n",
       "              mask=False,\n",
       "        fill_value=1e+20,\n",
       "             dtype=float32)}"
      ]
     },
     "execution_count": 23,
     "metadata": {},
     "output_type": "execute_result"
    }
   ],
   "source": [
    "radar.instrument_parameters['frequency']"
   ]
  },
  {
   "cell_type": "markdown",
   "id": "88c84c90-a61b-44e2-8a15-ed1e3a62267b",
   "metadata": {},
   "source": [
    "The data field contains a single value of 9.40083e+09 with a unit of s-1, which is 9.4GHz. Wavelegnth isn't stored within the parameters but we know that wavelength and frequency are inversely proportional to one another. Therefore we can calculate the wavelegnth using the frequency and the speed of light within the atmopshere (299,702,547 meters per second). "
   ]
  },
  {
   "cell_type": "code",
   "execution_count": 24,
   "id": "211723df-579c-4468-ab64-21f53c00f0b3",
   "metadata": {},
   "outputs": [
    {
     "name": "stdout",
     "output_type": "stream",
     "text": [
      "The radar wavelength is 0.0319 metres\n"
     ]
    }
   ],
   "source": [
    "speed_of_light = 299702547\n",
    "radar_frequency = radar.instrument_parameters['frequency']['data'][0]\n",
    "wavelength = speed_of_light/radar_frequency\n",
    "print('The radar wavelength is {:.4f} metres'.format(wavelength))"
   ]
  },
  {
   "cell_type": "markdown",
   "id": "fefbc6fc-75b5-4901-b056-cb3dd4559ce5",
   "metadata": {},
   "source": [
    "**4. Maximum reflectivity**\n",
    "\n",
    "To find the maximum radar reflectivity stored within the file we need to identify a suitable radar field to use and then use a numpy function to determine the maximum value found within that data. Going back to printing the fields and long names earlier we can see 4 potential options:\n",
    "\n",
    "- dBZ: reflectivity from horizontal polarisation\n",
    "- dBuZ: unfiltered reflectivity from horizontal polarisation \n",
    "- dBZv: reflectivity from vertical polarisation\n",
    "- dBuZv: unfiltered reflectivity from vertical polarisation\n",
    "\n",
    "As the question is non-specific in terms of either polarisation or filtering we will investigate all 4 fields to find the maximum (both polarisation and filtering will be covered later in the course).\n",
    "so "
   ]
  },
  {
   "cell_type": "code",
   "execution_count": 25,
   "id": "f4a273c0-0d6e-4366-8a69-972fb5716a27",
   "metadata": {},
   "outputs": [
    {
     "name": "stdout",
     "output_type": "stream",
     "text": [
      "dBZ :  56.0 dBZ\n",
      "dBuZ :  75.0 dBZ\n",
      "dBZv :  54.5 dBZ\n",
      "dBuZv :  77.0 dBZ\n"
     ]
    }
   ],
   "source": [
    "# Define a list of the fields we are interested in\n",
    "reflectivity_fields = ['dBZ', 'dBuZ', 'dBZv', 'dBuZv']\n",
    "# Loop throught the fields to find the maximum in each field\n",
    "for reflectivity_field in reflectivity_fields:\n",
    "    max_reflectivity = np.max(radar.fields[reflectivity_field]['data'])\n",
    "    print(reflectivity_field,': ', max_reflectivity, 'dBZ')"
   ]
  },
  {
   "cell_type": "markdown",
   "id": "48fcea13-bc62-4d7c-917b-94262349e84a",
   "metadata": {},
   "source": [
    "**5. Contact details**\n",
    "\n",
    "There are a range of contact details to choose from in the instrument metadata for this file. The question provides a useful reminder that in addition to the data they contain file can also contain additional information to help with their use / where to find help if something isn't clear."
   ]
  },
  {
   "cell_type": "code",
   "execution_count": 26,
   "id": "e3683e04-3362-4f17-9247-b7ba952d4119",
   "metadata": {},
   "outputs": [
    {
     "name": "stdout",
     "output_type": "stream",
     "text": [
      "ryan.neely@ncas.ac.uk\n",
      "lindsay.bennett@ncas.ac.uk\n"
     ]
    }
   ],
   "source": [
    "print(radar.metadata['project_principle_investigator_contact'])\n",
    "print(radar.metadata['creator_email'])"
   ]
  },
  {
   "cell_type": "markdown",
   "id": "fce8f4ca-0a26-4bba-9ed4-ea9e5373a0dd",
   "metadata": {},
   "source": [
    "The options available will change from file to file depending on who they've been created by and their intended use. Another option for help for this particular case would be the 'references' section."
   ]
  },
  {
   "cell_type": "code",
   "execution_count": 27,
   "id": "943d7e6b-067a-4ce3-a3f1-33a18130b9db",
   "metadata": {},
   "outputs": [
    {
     "name": "stdout",
     "output_type": "stream",
     "text": [
      "https://doi.org/10.5194/amt-11-6481-2018\n"
     ]
    }
   ],
   "source": [
    "print(radar.metadata['references'])"
   ]
  },
  {
   "cell_type": "markdown",
   "id": "598c24bd-92f3-4fa9-bdff-4b8635b54390",
   "metadata": {},
   "source": [
    "#### Working with the data in the radar files - Considering the minimum detectable signal"
   ]
  },
  {
   "cell_type": "markdown",
   "id": "ab97a670-8dfe-400e-b8af-8c5528a67fdb",
   "metadata": {},
   "source": [
    "In the Radar Fundamentals lecture we covered the radar equation relating the received power to the equivalent reflectivity factor of the target volume.\n",
    "\n",
    "If we examine a simplified form of the radar equation again we can see that the conversion of the average power received by the radar, $P_r$, to equivalent reflectivity factor, $Z$, depends on the radar calibraton constant ($C$) and the range of the observation from the radar, $r$.  \n",
    "\n",
    "$Z = C + 20.log_{10}(r) + 10.log_{10}(P_r)$\n",
    "\n",
    "Given the radar receiver will have a minimum discernible power above the noise floor (its sensitivity) the minimum reflectivity we can observe with a radar increases with range from the radar. This effectively limits the usable range of any radar depending on the intensity of echoes that are of interest.\n",
    "\n",
    "Here we will explore this using the radar file to empirically estimate the minimum discernible power and consider how this impacts the usability of this data at different ranges.\n",
    "\n",
    "We'll first find the radar calibration constant, $C$, in the radar file:\n",
    "\n"
   ]
  },
  {
   "cell_type": "code",
   "execution_count": 28,
   "id": "dac453c0-8d40-47c0-8335-ca4974cfbafa",
   "metadata": {},
   "outputs": [
    {
     "data": {
      "text/plain": [
       "{'long_name': 'calibrated_radar_constant_h_channel',\n",
       " 'units': 'db',\n",
       " 'meta_group': 'radar_calibration',\n",
       " '_FillValue': -9999.0,\n",
       " 'data': masked_array(data=[72.832],\n",
       "              mask=False,\n",
       "        fill_value=1e+20,\n",
       "             dtype=float32)}"
      ]
     },
     "execution_count": 28,
     "metadata": {},
     "output_type": "execute_result"
    }
   ],
   "source": [
    "radar.radar_calibration['r_calib_radar_constant_h']"
   ]
  },
  {
   "cell_type": "markdown",
   "id": "excess-watson",
   "metadata": {},
   "source": [
    "Now we can plot a single radial of reflectivity data using matplotlib. In this case we'll just use the first radial from the data file."
   ]
  },
  {
   "cell_type": "code",
   "execution_count": 29,
   "id": "64be1296-64be-4e50-a114-e19c48ba9df0",
   "metadata": {},
   "outputs": [
    {
     "data": {
      "text/plain": [
       "Text(0, 0.5, 'Horizontal reflectivity (dBZ)')"
      ]
     },
     "execution_count": 29,
     "metadata": {},
     "output_type": "execute_result"
    },
    {
     "data": {
      "image/png": "[encoded data removed]",
      "text/plain": [
       "<Figure size 640x480 with 1 Axes>"
      ]
     },
     "metadata": {},
     "output_type": "display_data"
    }
   ],
   "source": [
    "plt.plot(radar.range['data'],radar.fields['dBuZ']['data'][0])\n",
    "plt.grid()\n",
    "plt.xlabel('Range (metres)')\n",
    "plt.ylabel('Horizontal reflectivity (dBZ)')"
   ]
  },
  {
   "cell_type": "markdown",
   "id": "corresponding-salvation",
   "metadata": {},
   "source": [
    "Here we can see that the reflectivity actually decreases with range, we'll need a much larger sample of data to effectively find the observable power floor. On the next plot we'll take all the reflectivity data within the file and plot that as a function of range instead."
   ]
  },
  {
   "cell_type": "code",
   "execution_count": 30,
   "id": "6e1f1394-0f2f-414a-b78e-40061ccd7d50",
   "metadata": {},
   "outputs": [
    {
     "data": {
      "text/plain": [
       "Text(0, 0.5, 'Horizontal reflectivity (dBZ)')"
      ]
     },
     "execution_count": 30,
     "metadata": {},
     "output_type": "execute_result"
    },
    {
     "data": {
      "image/png": "[encoded data removed]",
      "text/plain": [
       "<Figure size 640x480 with 1 Axes>"
      ]
     },
     "metadata": {},
     "output_type": "display_data"
    }
   ],
   "source": [
    "plt.scatter(np.tile(radar.range['data'],radar.nrays),radar.fields['dBuZ']['data'].flatten(),marker='x',s=3)\n",
    "plt.grid()\n",
    "plt.xlabel('Range (metres)')\n",
    "plt.ylabel('Horizontal reflectivity (dBZ)')"
   ]
  },
  {
   "cell_type": "markdown",
   "id": "wanted-belief",
   "metadata": {},
   "source": [
    "Now there is sufficient data to see a clear range dependance in the minimum observed reflectivity. Depending on the magnitude of the echoes we're interested in we can see that the usable range can vary from 20-40km (weak precipitation / insects) upto the whole domain (heavy rainfall detection).\n",
    "\n",
    "##### Questions\n",
    "(~10 minutes in pairs)\n",
    "\n",
    "1. Can we use the radar equation to estimate what the minimum received power in this file is?\n",
    "2. Do we learn anything by plotting a power vs range scatterplot rather than the plot above?\n",
    "3. Does the minimum power have any range dependence? "
   ]
  },
  {
   "cell_type": "code",
   "execution_count": null,
   "id": "mighty-graham",
   "metadata": {},
   "outputs": [],
   "source": []
  },
  {
   "cell_type": "code",
   "execution_count": null,
   "id": "described-wellington",
   "metadata": {},
   "outputs": [],
   "source": []
  },
  {
   "cell_type": "code",
   "execution_count": null,
   "id": "exact-function",
   "metadata": {},
   "outputs": [],
   "source": []
  },
  {
   "cell_type": "code",
   "execution_count": null,
   "id": "skilled-grain",
   "metadata": {},
   "outputs": [],
   "source": []
  },
  {
   "cell_type": "code",
   "execution_count": null,
   "id": "olympic-yellow",
   "metadata": {},
   "outputs": [],
   "source": []
  },
  {
   "cell_type": "markdown",
   "id": "located-details",
   "metadata": {},
   "source": [
    "##### Answer"
   ]
  },
  {
   "cell_type": "code",
   "execution_count": 31,
   "id": "2fcd1315-44eb-4863-ae1b-48c6e43d70b5",
   "metadata": {},
   "outputs": [],
   "source": [
    "C = radar.radar_calibration['r_calib_radar_constant_h']['data'][0]\n",
    "Ri = np.tile(radar.range['data']/1000.0,radar.nrays).reshape(radar.nrays,radar.ngates)\n",
    "Pr = radar.fields['dBuZ']['data']-20*np.log10(Ri)-C"
   ]
  },
  {
   "cell_type": "code",
   "execution_count": 32,
   "id": "progressive-sensitivity",
   "metadata": {},
   "outputs": [
    {
     "name": "stdout",
     "output_type": "stream",
     "text": [
      "The minimum power within the file is -108.19 dBm\n"
     ]
    }
   ],
   "source": [
    "print('The minimum power within the file is {:.2f} dBm'.format(np.nanmin(Pr)))"
   ]
  },
  {
   "cell_type": "code",
   "execution_count": 33,
   "id": "30f0f2af-386f-459b-897d-a43e96e4d184",
   "metadata": {},
   "outputs": [
    {
     "data": {
      "image/png": "[encoded data removed]",
      "text/plain": [
       "<Figure size 640x480 with 1 Axes>"
      ]
     },
     "metadata": {},
     "output_type": "display_data"
    }
   ],
   "source": [
    "plt.scatter(Ri*1000, Pr,marker='x',s=3)\n",
    "\n",
    "plt.plot(radar.range['data'],np.nanmin(Pr, axis=0),'k--') # Plot the minimum received power observed vs distance from the radar\n",
    "plt.hlines(np.nanmin(Pr),0,150000, color='k',linestyles='--') # Plot the minimum received power observed within the whole file\n",
    "plt.ylim(-120,-90)\n",
    "plt.xlabel('Range (metres)')\n",
    "plt.ylabel('Received power estimate (dBm)')\n",
    "plt.grid()"
   ]
  },
  {
   "cell_type": "markdown",
   "id": "brilliant-correspondence",
   "metadata": {},
   "source": [
    "Plotting a scatter of power vs range we notice two things:\n",
    "1. In this case the minimum received power does appear to increase with range.\n",
    "2. The minimum value has a saw tooth profile.\n",
    "\n",
    "The range dependance occurs because the radar signal processor is correcting the reflectivity observations for gasseous attenuation within the atmosphere. We'll discuss this later in the course. The saw tooth profile of the minimum data points is due to the resolution at which the reflectivity data is stored in this file (0.5dBZ steps) and the range variation within each of these intervals generates this stepped appearance.\n",
    "\n",
    "In real-world applications its unlikely that a single file will always provide enough echoes of varying intensity to observe these phenomena. To empirically observe the radar sensitivity through time gathering data over longer timespans may be useful. Tracking sensitivity can be a useful diagnostic tool for monitoring weather radars."
   ]
  },
  {
   "cell_type": "markdown",
   "id": "6fbdaa88-49c5-4767-9427-1ebaedea0cbd",
   "metadata": {},
   "source": [
    "#### Summary\n",
    "Within this notebook, we have covered the basics of working with radar data using Py-ART, including:\n",
    "\n",
    "- Reading in a file using pyart.io\n",
    "- Investigating the ```Radar``` object\n",
    "- Finding information within the ```Radar``` object\n",
    "- Understanding the minimum detectable signal of radars using data from within the example file\n",
    "\n",
    "##### What’s Next\n",
    "- Using xradar in place of Py-ART (Practical 1 - Part 2)\n",
    "- Plotting data from the radar files (Practical 2)\n"
   ]
  },
  {
   "cell_type": "code",
   "execution_count": null,
   "id": "0d839391-ec73-44bb-8a29-5fa7c1fc0451",
   "metadata": {},
   "outputs": [],
   "source": []
  },
  {
   "cell_type": "code",
   "execution_count": null,
   "id": "3db97ad5-316c-404b-a2c9-9a36e4779c98",
   "metadata": {},
   "outputs": [],
   "source": []
  }
 ],
 "metadata": {
  "kernelspec": {
   "display_name": "EArad",
   "language": "python",
   "name": "earad"
  },
  "language_info": {
   "codemirror_mode": {
    "name": "ipython",
    "version": 3
   },
   "file_extension": ".py",
   "mimetype": "text/x-python",
   "name": "python",
   "nbconvert_exporter": "python",
   "pygments_lexer": "ipython3",
   "version": "3.9.16"
  }
 },
 "nbformat": 4,
 "nbformat_minor": 5
}
