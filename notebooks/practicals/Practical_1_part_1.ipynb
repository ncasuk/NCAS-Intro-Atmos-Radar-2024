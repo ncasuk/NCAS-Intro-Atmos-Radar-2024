{
 "cells": [
  {
   "cell_type": "markdown",
   "id": "eb88c721-b8fc-4cd5-b4dd-7b6ccfcb6bac",
   "metadata": {},
   "source": [
    "## Introduction to Atmospheric Radar Course - Practical 1\n",
    "\n",
    "<img src=\"NCAS_national_centre_logo_transparent.png\" alt=\"NCAS\" style=\"width: 200px;\"/>\n",
    "\n",
    "\n",
    "## An Introduction to reading and interogating radar files with open source radar packages\n",
    "### Part 1 - The Python-ARM Radar toolkit Py-ART\n",
    "\n",
    "#### Overview\n",
    "This notebook introduces the Python-ARM radar toolkit originally developed by the Atmospheric Radiation Measurement (ARM) User Facility. We cover how to read data files with Py-ART,  the data model used by Py-ART and how to use the data model to interogate basic information found within those files. Example files from the NCAS mobile X-band radar and the ??? radar are used in this notebook.\n",
    "\n",
    "##### An introduction to Py-ART\n",
    "\n",
    "Helmus, J.J. & Collis, S.M., (2016). The Python ARM Radar Toolkit (Py-ART), a Library for Working with Weather Radar Data in the Python Programming Language. Journal of Open Research Software. 4(1), p.e25. DOI: http://doi.org/10.5334/jors.119\n",
    "\n",
    "- Official source code repository: https://github.com/ARM-DOE/pyart\n",
    "- \n",
    "HTML documentation: https://arm-doe.github.io/pyart\n",
    "/"
   ]
  },
  {
   "cell_type": "code",
   "execution_count": 1,
   "id": "550dfb1a-40b5-4b96-a5a4-8f5eb914941f",
   "metadata": {},
   "outputs": [
    {
     "name": "stdout",
     "output_type": "stream",
     "text": [
      "\n",
      "## You are using the Python ARM Radar Toolkit (Py-ART), an open source\n",
      "## library for working with weather radar data. Py-ART is partly\n",
      "## supported by the U.S. Department of Energy as part of the Atmospheric\n",
      "## Radiation Measurement (ARM) Climate Research Facility, an Office of\n",
      "## Science user facility.\n",
      "##\n",
      "## If you use this software to prepare a publication, please cite:\n",
      "##\n",
      "##     JJ Helmus and SM Collis, JORS 2016, doi: 10.5334/jors.119\n",
      "\n"
     ]
    }
   ],
   "source": [
    "import pyart\n",
    "\n",
    "# Some helpful additional modules to load for examining the radar files / the data within during the notebook\n",
    "import numpy as np\n",
    "import matplotlib.pyplot as plt"
   ]
  },
  {
   "cell_type": "markdown",
   "id": "4ee5137f-1b1d-4a90-b362-0a555c740971",
   "metadata": {},
   "source": [
    "##### Reading files with Py-ART"
   ]
  },
  {
   "cell_type": "markdown",
   "id": "5c95ffaf-55fb-474d-8604-7a4f34056f32",
   "metadata": {},
   "source": [
    "Py-ART is capable of reading radar data stored in a number of file formats, including Cf/Radial, Sigmet and NexRAD. Core integrated input/output functions are found within the **io** module, while some less well tested input/output functions are found within the **aux_io** module. This includes readers for additional readers for formats such as Odim_h5 and Rainbow. We can see the difference between the two modules by examining them within the notebook:"
   ]
  },
  {
   "cell_type": "code",
   "execution_count": 2,
   "id": "8e57e0f7-f28f-4d74-a8f0-0678c99e57c5",
   "metadata": {},
   "outputs": [
    {
     "data": {
      "text/plain": [
       "\u001b[0;31mType:\u001b[0m        module\n",
       "\u001b[0;31mString form:\u001b[0m <module 'pyart.io' from '/home/users/dufton/software/miniconda3/envs/dufton_EA/lib/python3.9/site-packages/pyart/io/__init__.py'>\n",
       "\u001b[0;31mFile:\u001b[0m        ~/software/miniconda3/envs/dufton_EA/lib/python3.9/site-packages/pyart/io/__init__.py\n",
       "\u001b[0;31mDocstring:\u001b[0m  \n",
       "Functions to read and write radar and grid data to and from a number of file\n",
       "formats.\n",
       "\n",
       "In most cases the :py:func:`pyart.io.read` function should be used to read\n",
       "in radar data from a file. In certain cases the function the read function\n",
       "for the format in question should be used."
      ]
     },
     "metadata": {},
     "output_type": "display_data"
    }
   ],
   "source": [
    "pyart.io?"
   ]
  },
  {
   "cell_type": "code",
   "execution_count": 3,
   "id": "0df8feb9-29f1-4286-bdb4-ffccba2a7c10",
   "metadata": {},
   "outputs": [
    {
     "data": {
      "text/plain": [
       "\u001b[0;31mType:\u001b[0m        module\n",
       "\u001b[0;31mString form:\u001b[0m <module 'pyart.aux_io' from '/home/users/dufton/software/miniconda3/envs/dufton_EA/lib/python3.9/site-packages/pyart/aux_io/__init__.py'>\n",
       "\u001b[0;31mFile:\u001b[0m        ~/software/miniconda3/envs/dufton_EA/lib/python3.9/site-packages/pyart/aux_io/__init__.py\n",
       "\u001b[0;31mDocstring:\u001b[0m  \n",
       "Additional classes and functions for reading and writing data from a number\n",
       "of file formats.\n",
       "\n",
       "These auxiliary input/output routines are not as well polished as those in\n",
       ":mod:`pyart.io`. They may require addition dependencies beyond those required\n",
       "for a standard Py-ART install, use non-standard function parameter and naming,\n",
       "are not supported by the :py:func:`pyart.io.read` function and are not fully\n",
       "tested if tested at all. Please use these at your own risk.\n",
       "\n",
       "Bugs in these function should be reported but fixing them may not be a\n",
       "priority."
      ]
     },
     "metadata": {},
     "output_type": "display_data"
    }
   ],
   "source": [
    "pyart.aux_io?"
   ]
  },
  {
   "cell_type": "markdown",
   "id": "f9e3aed4-f158-45b0-b4e3-ca520b23756e",
   "metadata": {},
   "source": [
    "The aim of all reader functions within Py-ART is to take the data file and transfer it into a common radar object. We can see how this works by reading in our first example file. In this case we are using a CF/Radial formated file from the NCAS X-band mobile radar. Although we know how the file is formatted we can still use the generic ```pyart.io.read``` function to open the file, as Py-ART can distinguish file formats in the background."
   ]
  },
  {
   "cell_type": "code",
   "execution_count": 4,
   "id": "aabd545c-9c7d-4e34-9b39-84609536e1d6",
   "metadata": {},
   "outputs": [
    {
     "data": {
      "text/plain": [
       "<pyart.core.radar.Radar at 0x7fc7124584c0>"
      ]
     },
     "execution_count": 4,
     "metadata": {},
     "output_type": "execute_result"
    }
   ],
   "source": [
    "example_file_1 = 'ncas-mobile-x-band-radar-1_sandwith_20191110-204252_SUR_v1.nc'\n",
    "pyart.io.read(example_file_1)"
   ]
  },
  {
   "cell_type": "markdown",
   "id": "d821aff3-4776-484d-9868-2541331e9738",
   "metadata": {},
   "source": [
    "This creates a core radar object. We'll save this with a variable name to allow us to investigate the data model used by Py-ART and find out some information about the data found within the file."
   ]
  },
  {
   "cell_type": "code",
   "execution_count": 5,
   "id": "fa85ae18-c8ca-4022-a65b-3028e114ac53",
   "metadata": {},
   "outputs": [],
   "source": [
    "radar = pyart.io.read(example_file_1)"
   ]
  },
  {
   "cell_type": "markdown",
   "id": "da091c1a-82cc-440e-8d0a-258d3f91d8f9",
   "metadata": {},
   "source": [
    "##### The Py-ART data model"
   ]
  },
  {
   "cell_type": "markdown",
   "id": "eb5961cc-837f-4296-a0dc-309493a77e4c",
   "metadata": {},
   "source": [
    "The Py-ART data model holds the radar file, the fields within the file and its associated metadata within a ```pyart.Radar``` object.\n",
    "\n",
    "To see which fields are found within this example file we can view the keys of the ```radar.fields``` attribute (the model stores fields and most other information within dictionary objects)."
   ]
  },
  {
   "cell_type": "code",
   "execution_count": 6,
   "id": "8a16cf1b-fab9-4b63-87e8-068780add6f7",
   "metadata": {},
   "outputs": [
    {
     "name": "stdout",
     "output_type": "stream",
     "text": [
      "dict_keys(['CCOR', 'CCORv', 'DOP', 'DOPu', 'KDP', 'PhiDP', 'RhoHV', 'RhoHVu', 'SNR', 'SNRu', 'SNRv', 'SNRvu', 'SQI', 'SQIu', 'SQIv', 'SQIvu', 'V', 'Vu', 'Vv', 'Vvu', 'W', 'Wu', 'Wv', 'Wvu', 'ZDR', 'ZDRu', 'dBZ', 'dBZv', 'dBuZ', 'dBuZv', 'uKDP', 'uKDPu', 'uPhiDP', 'uPhiDPu'])\n"
     ]
    }
   ],
   "source": [
    "print(radar.fields.keys())"
   ]
  },
  {
   "cell_type": "markdown",
   "id": "58f9b34f-73f4-48d6-8a9b-1aa8824a6ce2",
   "metadata": {},
   "source": [
    "While these dictionary keys give us a hint at what the fields may contain we can use the **long_name** convention from CF along with some standard methods from python to gain a little more insight about all of these fields with a simple python loop."
   ]
  },
  {
   "cell_type": "code",
   "execution_count": 7,
   "id": "14aa6281-7646-4b68-be5c-d5061433a04e",
   "metadata": {},
   "outputs": [
    {
     "name": "stdout",
     "output_type": "stream",
     "text": [
      "CCOR: clutter_correction_ratio_from_horizontal_polarization\n",
      "CCORv: clutter_correction_ratio_from_vertical_polarization\n",
      "DOP: degree_of_polarization\n",
      "DOPu: unfiltered_degree_of_polarization\n",
      "KDP: specific_differential_phase_shift_derived_by_Rainbow_from_PhiDP\n",
      "PhiDP: differential_phase_shift_filtered_by_Rainbow\n",
      "RhoHV: co-polar_cross_correlation_coefficient\n",
      "RhoHVu: unfiltered_co-polar_cross_correlation_coefficient\n",
      "SNR: signal_to_noise_ratio_from_horizontal_polarization\n",
      "SNRu: unfiltered_signal_to_noise_ratio_from_horizontal_polarization\n",
      "SNRv: signal_to_noise_ratio_from_vertical_polarization\n",
      "SNRvu: unfiltered_signal_to_noise_ratio_from_vertical_polarization\n",
      "SQI: signal_quality_index_from_horizontal_polarization\n",
      "SQIu: unfiltered_signal_quality_index_from_horizontal_polarization\n",
      "SQIv: signal_quality_index_from_vertical_polarization\n",
      "SQIvu: unfiltered_signal_quality_index_from_vertical_polarization\n",
      "V: radial_velocity_from_horizontal_polarization\n",
      "Vu: unfiltered_radial_velocity_from_horizontal_polarization\n",
      "Vv: radial_velocity_from_vertical_polarization\n",
      "Vvu: unfiltered_radial_velocity_from_vertical_polarization\n",
      "W: spectral_width_from_horizontal_polarization\n",
      "Wu: unfiltered_spectral_width_from_horizontal_polarization\n",
      "Wv: spectral_width_from_vertical_polarization\n",
      "Wvu: unfiltered_spectral_width_from_vertical_polarization\n",
      "ZDR: differential_reflectivity\n",
      "ZDRu: unfiltered_differential_reflectivity\n",
      "dBZ: reflectivity_from_horizontal_polarization\n",
      "dBZv: reflectivity_from_vertical_polarization\n",
      "dBuZ: unfiltered_reflectivity_from_horizontal_polarization\n",
      "dBuZv: unfiltered_reflectivity_from_vertical_polarization\n",
      "uKDP: specific_differential_phase_shift_derived_by_signal_processor(GDRX)\n",
      "uKDPu: unfiltered_specific_differential_phase_shift_derived_by_signal_processor(GDRX)\n",
      "uPhiDP: differential_phase_shift_derived_by_signal_processor(GDRX)\n",
      "uPhiDPu: unfiltered_differential_phase_shift_derived_by_signal_processor(GDRX)\n"
     ]
    }
   ],
   "source": [
    "for key in radar.fields.keys():\n",
    "    print('{}: {}'.format(key, radar.fields[key]['long_name']))"
   ]
  },
  {
   "cell_type": "markdown",
   "id": "3e9fd9a1-6128-4bc8-97e3-1a3de5009e75",
   "metadata": {},
   "source": [
    "Other possible options would be **standard_name** and **proposed_standard_name** depending on whether the field in question has an accepted standard name within the CF conventions (link). For example we can look at the field 'dBuZ' in more detail to see what other items are contained within its dictionary."
   ]
  },
  {
   "cell_type": "code",
   "execution_count": 8,
   "id": "3f32ff64-30db-402e-bbc3-bfdc0d1de51f",
   "metadata": {},
   "outputs": [
    {
     "name": "stdout",
     "output_type": "stream",
     "text": [
      "{'long_name': 'unfiltered_reflectivity_from_horizontal_polarization', 'proposed_standard_name': 'radar_equivalent_reflectivity_factor_h', 'units': 'dBZ', 'sampling_ratio': 1.0, '_FillValue': -9e+33, 'grid_mapping': 'grid_mapping', 'coordinates': 'time range', 'data': masked_array(\n",
      "  data=[[34.5, 26.5, 23.5, ..., 12.5, 13.0, 15.0],\n",
      "        [34.5, 26.0, 25.5, ..., 12.5, 13.0, 16.0],\n",
      "        [34.5, 25.5, 28.0, ..., 14.0, 13.5, 15.0],\n",
      "        ...,\n",
      "        [34.5, 28.0, 32.5, ..., --, --, --],\n",
      "        [34.5, 30.5, 28.5, ..., --, --, --],\n",
      "        [34.5, 28.5, 28.5, ..., --, --, --]],\n",
      "  mask=[[False, False, False, ..., False, False, False],\n",
      "        [False, False, False, ..., False, False, False],\n",
      "        [False, False, False, ..., False, False, False],\n",
      "        ...,\n",
      "        [False, False, False, ...,  True,  True,  True],\n",
      "        [False, False, False, ...,  True,  True,  True],\n",
      "        [False, False, False, ...,  True,  True,  True]],\n",
      "  fill_value=-9e+33,\n",
      "  dtype=float32)}\n"
     ]
    }
   ],
   "source": [
    "print(radar.fields['dBuZ'])"
   ]
  },
  {
   "cell_type": "markdown",
   "id": "c6ea203a-3793-4786-bb5d-555d756e278e",
   "metadata": {},
   "source": [
    "In the case of 'dBuZ' it has a proposed standard name of 'radar_equivalent_reflectivity_factor_h' and units of 'dBZ'. We can also see the values of dBuZ are stored under the 'data' key. This is common for the majority of values within the radar object.\n",
    "\n",
    "To gain a more complete picture of what is inside the radar object we can use the inbuilt Py-ART method ```.info```. First we'll interogate this to see what, if any options we can provide when calling the method."
   ]
  },
  {
   "cell_type": "code",
   "execution_count": 9,
   "id": "efb6b43c-1b63-4e8f-9a3a-92f3161d90f1",
   "metadata": {},
   "outputs": [
    {
     "data": {
      "text/plain": [
       "\u001b[0;31mSignature:\u001b[0m\n",
       "\u001b[0mradar\u001b[0m\u001b[0;34m.\u001b[0m\u001b[0minfo\u001b[0m\u001b[0;34m(\u001b[0m\u001b[0;34m\u001b[0m\n",
       "\u001b[0;34m\u001b[0m    \u001b[0mlevel\u001b[0m\u001b[0;34m=\u001b[0m\u001b[0;34m'standard'\u001b[0m\u001b[0;34m,\u001b[0m\u001b[0;34m\u001b[0m\n",
       "\u001b[0;34m\u001b[0m    \u001b[0mout\u001b[0m\u001b[0;34m=\u001b[0m\u001b[0;34m<\u001b[0m\u001b[0mipykernel\u001b[0m\u001b[0;34m.\u001b[0m\u001b[0miostream\u001b[0m\u001b[0;34m.\u001b[0m\u001b[0mOutStream\u001b[0m \u001b[0mobject\u001b[0m \u001b[0mat\u001b[0m \u001b[0;36m0x7fc8e08f6820\u001b[0m\u001b[0;34m>\u001b[0m\u001b[0;34m,\u001b[0m\u001b[0;34m\u001b[0m\n",
       "\u001b[0;34m\u001b[0m\u001b[0;34m)\u001b[0m\u001b[0;34m\u001b[0m\u001b[0;34m\u001b[0m\u001b[0m\n",
       "\u001b[0;31mDocstring:\u001b[0m\n",
       "Print information on radar.\n",
       "\n",
       "Parameters\n",
       "----------\n",
       "level : {'compact', 'standard', 'full', 'c', 's', 'f'}, optional\n",
       "    Level of information on radar object to print, compact is\n",
       "    minimal information, standard more and full everything.\n",
       "out : file-like, optional\n",
       "    Stream to direct output to, default is to print information\n",
       "    to standard out (the screen).\n",
       "\u001b[0;31mFile:\u001b[0m      ~/software/miniconda3/envs/dufton_EA/lib/python3.9/site-packages/pyart/core/radar.py\n",
       "\u001b[0;31mType:\u001b[0m      method"
      ]
     },
     "metadata": {},
     "output_type": "display_data"
    }
   ],
   "source": [
    "radar.info?"
   ]
  },
  {
   "cell_type": "markdown",
   "id": "841c4808-e4bc-4cfb-9efe-e2da7f5e50e3",
   "metadata": {},
   "source": [
    "Even the ```compact``` option provides a significant print out of the file. Feel free to experiment with the other options too. "
   ]
  },
  {
   "cell_type": "code",
   "execution_count": 10,
   "id": "16ab0058-4906-49e3-aa12-4a3d04305c5e",
   "metadata": {},
   "outputs": [
    {
     "name": "stdout",
     "output_type": "stream",
     "text": [
      "altitude: <ndarray of type: float64 and shape: (1,)>\n",
      "altitude_agl: <ndarray of type: float64 and shape: (1,)>\n",
      "antenna_transition: <ndarray of type: int8 and shape: (3600,)>\n",
      "azimuth: <ndarray of type: float32 and shape: (3600,)>\n",
      "elevation: <ndarray of type: float32 and shape: (3600,)>\n",
      "fields:\n",
      "\tCCOR: <ndarray of type: float32 and shape: (3600, 1000)>\n",
      "\tCCORv: <ndarray of type: float32 and shape: (3600, 1000)>\n",
      "\tDOP: <ndarray of type: float32 and shape: (3600, 1000)>\n",
      "\tDOPu: <ndarray of type: float32 and shape: (3600, 1000)>\n",
      "\tKDP: <ndarray of type: float32 and shape: (3600, 1000)>\n",
      "\tPhiDP: <ndarray of type: float32 and shape: (3600, 1000)>\n",
      "\tRhoHV: <ndarray of type: float32 and shape: (3600, 1000)>\n",
      "\tRhoHVu: <ndarray of type: float32 and shape: (3600, 1000)>\n",
      "\tSNR: <ndarray of type: float32 and shape: (3600, 1000)>\n",
      "\tSNRu: <ndarray of type: float32 and shape: (3600, 1000)>\n",
      "\tSNRv: <ndarray of type: float32 and shape: (3600, 1000)>\n",
      "\tSNRvu: <ndarray of type: float32 and shape: (3600, 1000)>\n",
      "\tSQI: <ndarray of type: float32 and shape: (3600, 1000)>\n",
      "\tSQIu: <ndarray of type: float32 and shape: (3600, 1000)>\n",
      "\tSQIv: <ndarray of type: float32 and shape: (3600, 1000)>\n",
      "\tSQIvu: <ndarray of type: float32 and shape: (3600, 1000)>\n",
      "\tV: <ndarray of type: float32 and shape: (3600, 1000)>\n",
      "\tVu: <ndarray of type: float32 and shape: (3600, 1000)>\n",
      "\tVv: <ndarray of type: float32 and shape: (3600, 1000)>\n",
      "\tVvu: <ndarray of type: float32 and shape: (3600, 1000)>\n",
      "\tW: <ndarray of type: float32 and shape: (3600, 1000)>\n",
      "\tWu: <ndarray of type: float32 and shape: (3600, 1000)>\n",
      "\tWv: <ndarray of type: float32 and shape: (3600, 1000)>\n",
      "\tWvu: <ndarray of type: float32 and shape: (3600, 1000)>\n",
      "\tZDR: <ndarray of type: float32 and shape: (3600, 1000)>\n",
      "\tZDRu: <ndarray of type: float32 and shape: (3600, 1000)>\n",
      "\tdBZ: <ndarray of type: float32 and shape: (3600, 1000)>\n",
      "\tdBZv: <ndarray of type: float32 and shape: (3600, 1000)>\n",
      "\tdBuZ: <ndarray of type: float32 and shape: (3600, 1000)>\n",
      "\tdBuZv: <ndarray of type: float32 and shape: (3600, 1000)>\n",
      "\tuKDP: <ndarray of type: float32 and shape: (3600, 1000)>\n",
      "\tuKDPu: <ndarray of type: float32 and shape: (3600, 1000)>\n",
      "\tuPhiDP: <ndarray of type: float32 and shape: (3600, 1000)>\n",
      "\tuPhiDPu: <ndarray of type: float32 and shape: (3600, 1000)>\n",
      "fixed_angle: <ndarray of type: float32 and shape: (10,)>\n",
      "instrument_parameters:\n",
      "\tfrequency: <ndarray of type: float32 and shape: (1,)>\n",
      "\tfollow_mode: <ndarray of type: |S1 and shape: (10, 32)>\n",
      "\tpulse_width: <ndarray of type: float32 and shape: (3600,)>\n",
      "\tprt_mode: <ndarray of type: |S1 and shape: (10, 32)>\n",
      "\tprt: <ndarray of type: float32 and shape: (3600,)>\n",
      "\tprt_ratio: <ndarray of type: float32 and shape: (3600,)>\n",
      "\tpolarization_mode: <ndarray of type: |S1 and shape: (10, 32)>\n",
      "\tnyquist_velocity: <ndarray of type: float32 and shape: (3600,)>\n",
      "\tunambiguous_range: <ndarray of type: float32 and shape: (3600,)>\n",
      "\tn_samples: <ndarray of type: int32 and shape: (3600,)>\n",
      "\tradar_antenna_gain_h: <ndarray of type: float32 and shape: (1,)>\n",
      "\tradar_antenna_gain_v: <ndarray of type: float32 and shape: (1,)>\n",
      "\tradar_beam_width_h: <ndarray of type: float32 and shape: (1,)>\n",
      "\tradar_beam_width_v: <ndarray of type: float32 and shape: (1,)>\n",
      "\tradar_rx_bandwidth: <ndarray of type: float32 and shape: (1,)>\n",
      "\tmeasured_transmit_power_v: <ndarray of type: float32 and shape: (3600,)>\n",
      "\tmeasured_transmit_power_h: <ndarray of type: float32 and shape: (3600,)>\n",
      "latitude: <ndarray of type: float64 and shape: (1,)>\n",
      "longitude: <ndarray of type: float64 and shape: (1,)>\n",
      "nsweeps: 10\n",
      "ngates: 1000\n",
      "nrays: 3600\n",
      "radar_calibration:\n",
      "\tr_calib_time: <ndarray of type: |S1 and shape: (1, 32)>\n",
      "\tr_calib_pulse_width: <ndarray of type: float32 and shape: (1,)>\n",
      "\tr_calib_xmit_power_h: <ndarray of type: float32 and shape: (1,)>\n",
      "\tr_calib_xmit_power_v: <ndarray of type: float32 and shape: (1,)>\n",
      "\tr_calib_two_way_waveguide_loss_h: <ndarray of type: float32 and shape: (1,)>\n",
      "\tr_calib_two_way_waveguide_loss_v: <ndarray of type: float32 and shape: (1,)>\n",
      "\tr_calib_two_way_radome_loss_h: <ndarray of type: float32 and shape: (1,)>\n",
      "\tr_calib_two_way_radome_loss_v: <ndarray of type: float32 and shape: (1,)>\n",
      "\tr_calib_receiver_mismatch_loss: <ndarray of type: float32 and shape: (1,)>\n",
      "\tr_calib_k_squared_water: <ndarray of type: float32 and shape: (1,)>\n",
      "\tr_calib_radar_constant_h: <ndarray of type: float32 and shape: (1,)>\n",
      "\tr_calib_radar_constant_v: <ndarray of type: float32 and shape: (1,)>\n",
      "\tr_calib_antenna_gain_h: <ndarray of type: float32 and shape: (1,)>\n",
      "\tr_calib_antenna_gain_v: <ndarray of type: float32 and shape: (1,)>\n",
      "\tr_calib_noise_hc: <ndarray of type: float32 and shape: (1,)>\n",
      "\tr_calib_noise_vc: <ndarray of type: float32 and shape: (1,)>\n",
      "\tr_calib_noise_hx: <ndarray of type: float32 and shape: (1,)>\n",
      "\tr_calib_noise_vx: <ndarray of type: float32 and shape: (1,)>\n",
      "\tr_calib_i0_dbm_hc: <ndarray of type: float32 and shape: (1,)>\n",
      "\tr_calib_i0_dbm_vc: <ndarray of type: float32 and shape: (1,)>\n",
      "\tr_calib_i0_dbm_hx: <ndarray of type: float32 and shape: (1,)>\n",
      "\tr_calib_i0_dbm_vx: <ndarray of type: float32 and shape: (1,)>\n",
      "\tr_calib_receiver_gain_hc: <ndarray of type: float32 and shape: (1,)>\n",
      "\tr_calib_receiver_gain_vc: <ndarray of type: float32 and shape: (1,)>\n",
      "\tr_calib_receiver_gain_hx: <ndarray of type: float32 and shape: (1,)>\n",
      "\tr_calib_receiver_gain_vx: <ndarray of type: float32 and shape: (1,)>\n",
      "\tr_calib_receiver_slope_hc: <ndarray of type: float32 and shape: (1,)>\n",
      "\tr_calib_receiver_slope_vc: <ndarray of type: float32 and shape: (1,)>\n",
      "\tr_calib_receiver_slope_hx: <ndarray of type: float32 and shape: (1,)>\n",
      "\tr_calib_receiver_slope_vx: <ndarray of type: float32 and shape: (1,)>\n",
      "\tr_calib_dynamic_range_db_hc: <ndarray of type: float32 and shape: (1,)>\n",
      "\tr_calib_dynamic_range_db_vc: <ndarray of type: float32 and shape: (1,)>\n",
      "\tr_calib_dynamic_range_db_hx: <ndarray of type: float32 and shape: (1,)>\n",
      "\tr_calib_dynamic_range_db_vx: <ndarray of type: float32 and shape: (1,)>\n",
      "\tr_calib_base_dbz_1km_hc: <ndarray of type: float32 and shape: (1,)>\n",
      "\tr_calib_base_dbz_1km_vc: <ndarray of type: float32 and shape: (1,)>\n",
      "\tr_calib_base_dbz_1km_hx: <ndarray of type: float32 and shape: (1,)>\n",
      "\tr_calib_base_dbz_1km_vx: <ndarray of type: float32 and shape: (1,)>\n",
      "\tr_calib_sun_power_hc: <ndarray of type: float32 and shape: (1,)>\n",
      "\tr_calib_sun_power_vc: <ndarray of type: float32 and shape: (1,)>\n",
      "\tr_calib_sun_power_hx: <ndarray of type: float32 and shape: (1,)>\n",
      "\tr_calib_sun_power_vx: <ndarray of type: float32 and shape: (1,)>\n",
      "\tr_calib_noise_source_power_h: <ndarray of type: float32 and shape: (1,)>\n",
      "\tr_calib_noise_source_power_v: <ndarray of type: float32 and shape: (1,)>\n",
      "\tr_calib_power_measure_loss_h: <ndarray of type: float32 and shape: (1,)>\n",
      "\tr_calib_power_measure_loss_v: <ndarray of type: float32 and shape: (1,)>\n",
      "\tr_calib_coupler_forward_loss_h: <ndarray of type: float32 and shape: (1,)>\n",
      "\tr_calib_coupler_forward_loss_v: <ndarray of type: float32 and shape: (1,)>\n",
      "\tr_calib_dbz_correction: <ndarray of type: float32 and shape: (1,)>\n",
      "\tr_calib_zdr_correction: <ndarray of type: float32 and shape: (1,)>\n",
      "\tr_calib_ldr_correction_h: <ndarray of type: float32 and shape: (1,)>\n",
      "\tr_calib_ldr_correction_v: <ndarray of type: float32 and shape: (1,)>\n",
      "\tr_calib_system_phidp: <ndarray of type: float32 and shape: (1,)>\n",
      "\tr_calib_test_power_h: <ndarray of type: float32 and shape: (1,)>\n",
      "\tr_calib_test_power_v: <ndarray of type: float32 and shape: (1,)>\n",
      "\tr_calib_index: <ndarray of type: int32 and shape: (3600,)>\n",
      "range: <ndarray of type: float32 and shape: (1000,)>\n",
      "scan_rate: <ndarray of type: float32 and shape: (3600,)>\n",
      "scan_type: other\n",
      "sweep_end_ray_index: <ndarray of type: int32 and shape: (10,)>\n",
      "sweep_mode: <ndarray of type: |S1 and shape: (10, 32)>\n",
      "sweep_number: <ndarray of type: int32 and shape: (10,)>\n",
      "sweep_start_ray_index: <ndarray of type: int32 and shape: (10,)>\n",
      "target_scan_rate: <ndarray of type: float32 and shape: (10,)>\n",
      "time: <ndarray of type: float64 and shape: (3600,)>\n",
      "metadata:\n",
      "\tConventions: CF-1.7\n",
      "\tSub_conventions: CF-Radial instrument_parameters radar_parameters radar_calibration\n",
      "\tversion: CF-Radial-1.4\n",
      "\ttitle: Moments from the NCAS Mobile X-band Radar at Sandwith, UK\n",
      "\tinstitution: National Centre for Atmospheric Science (NCAS)\n",
      "\treferences: https://doi.org/10.5194/amt-11-6481-2018\n",
      "\tsource: Leonardo Gematronik 50DX Mobile X-band Radar\n",
      "\thistory: Version 1, uncalibrated file\n",
      "\tcomment: (1) platform_type attribute values are specific to CfRadial. (2) There is no qc_flag variable. (3) The CF conventions are followed for time. Therefore the following date/time variables are not included: alt_time, day_of_year, year, month, day, hour, minute, second. (4) latitude and longitude dimensions are not included - latitude and longitude are scalars for this platform since it is stationary.(5) Sampling interval varies in time.\n",
      "\toriginal_format: GEMATRONIK\n",
      "\tdriver: RadxConvert(NCAR)\n",
      "\tcreated: 2020/07/23 15:53:18.786\n",
      "\tstart_datetime: 2019-11-10T20:42:52Z\n",
      "\ttime_coverage_start: 2019-11-10T20:42:52Z\n",
      "\tstart_time: 2019-11-10 20:42:52.000\n",
      "\tend_datetime: 2019-11-10T20:47:30Z\n",
      "\ttime_coverage_end: 2019-11-10T20:47:30Z\n",
      "\tend_time: 2019-11-10 20:47:30.945\n",
      "\tinstrument_name: ncas-mobile-x-band-radar-1\n",
      "\tsite_name: sandwith\n",
      "\tscan_name: \n",
      "\tscan_id: 0\n",
      "\tplatform_is_mobile: false\n",
      "\tn_gates_vary: false\n",
      "\tray_times_increase: true\n",
      "\tinstrument_manufacturer: Leonardo Germany GmbH\n",
      "\tinstrument_model: Meteor 50DX\n",
      "\tserial_number: 1108130\n",
      "\toperational_software: Rainbow\n",
      "\toperational_software_version: 5.44\n",
      "\tcreator_name: L.Bennett\n",
      "\tcreator_email: lindsay.bennett@ncas.ac.uk\n",
      "\tcreator_url: https://amf.ncas.ac.uk\n",
      "\tprocessing_software: LROSE\n",
      "\tprocessing_software_version: 20190710\n",
      "\tcalibration_sensitivity: n/a\n",
      "\tcalibration_certification_date: n/a\n",
      "\tcalibration_certification_url: n/a\n",
      "\tsampling_interval: n/a\n",
      "\taveraging_interval: n/a\n",
      "\tdata_set_version: 1\n",
      "\tdata_product_level: 1\n",
      "\tlast_revised_date: 2020-07-23\n",
      "\tproject: Radar Applications in Northern England (RAIN-E)\n",
      "\tproject_principle_investigator: Dr Ryan Neely\n",
      "\tproject_principle_investigator_contact: ryan.neely@ncas.ac.uk\n",
      "\tlicence: Data usage licence - UK Government. Open Licence agreement: http://www.nationalarchives.gov.uk/doc/opern-government-licence\n",
      "\tacknowledgement: Acknowledgement of NCAS as the data provider is required whenever and wherever this data is used\n",
      "\tplatform_name: sandwith\n",
      "\tfeature_type: radar moments\n",
      "\tplatform_location: 54 31 03 N (54.51761),  3 36 54 W (-3.61508)\n",
      "\tplatform_height: 133.0m above MSL\n",
      "\tlocation_keywords: Sandwith, reservoir, United Utilities\n",
      "\tqc_comment: n/a - no qc_flag field\n",
      "\tvolume_number: 1\n",
      "\tplatform_type: fixed\n",
      "\tinstrument_type: radar\n",
      "\tprimary_axis: axis_z\n"
     ]
    }
   ],
   "source": [
    "radar.info(level='compact')"
   ]
  },
  {
   "cell_type": "markdown",
   "id": "7b1b1d48-ed0c-42d8-87d4-4e04c28c3f38",
   "metadata": {},
   "source": [
    "#### Exercise 1\n",
    "\n",
    "*(10 minutes in pairs)*\n",
    "\n",
    "Using the information found in the ```radar.info``` print information and the dictionaries within the radar object answer the following questions about the example file:\n",
    "\n",
    "1. Where was the radar located while collecting this data?\n",
    "2. What is the gate spacing of the radar data and how many gates were collected for each ray?\n",
    "3. What frequency and wavelength is the radar operating at?\n",
    "4. What is the maximum uncorrected reflectivity recorded within the file? \n",
    "5. Who could you contact if you want more information about the radar files?"
   ]
  },
  {
   "cell_type": "markdown",
   "id": "da82ac71-1a8b-4719-881b-db09b58fd534",
   "metadata": {},
   "source": [
    "##### Answers"
   ]
  },
  {
   "cell_type": "markdown",
   "id": "9f4ec40b-9f2b-4aef-b578-daf95b88af6c",
   "metadata": {},
   "source": [
    "**1. Radar location**\n",
    "\n",
    "Reading through the ```radar.info(level=compact)``` output we can answer this without any additional python calls. The \"platform_location\" tells us the latitude and longitude of the radar: 54 31 03 N (54.51761),  3 36 54 W (-3.61508). However it may also be useful to obtain this information pythonically (say in a script), so here we can see a couple of alternative solutions. Reading the metadata section also tells us that the radar is located at \"Sandwith\" which is a United Utilities reservoir in the UK (see \"title\" and \"location_keywords\")."
   ]
  },
  {
   "cell_type": "code",
   "execution_count": 11,
   "id": "fdae5235-4998-469a-ba66-99fcc01c4c17",
   "metadata": {},
   "outputs": [
    {
     "name": "stdout",
     "output_type": "stream",
     "text": [
      "54 31 03 N (54.51761),  3 36 54 W (-3.61508)\n"
     ]
    }
   ],
   "source": [
    "print(radar.metadata['platform_location'])"
   ]
  },
  {
   "cell_type": "code",
   "execution_count": 12,
   "id": "8f22c713-e213-48ae-9e9b-b730b744007b",
   "metadata": {},
   "outputs": [
    {
     "name": "stdout",
     "output_type": "stream",
     "text": [
      "{'long_name': 'latitude', 'units': 'degrees_north', '_FillValue': -9999.0, 'data': masked_array(data=[54.51761],\n",
      "             mask=False,\n",
      "       fill_value=1e+20)}\n",
      "{'long_name': 'longitude', 'units': 'degrees_east', '_FillValue': -9999.0, 'data': masked_array(data=[-3.61508],\n",
      "             mask=False,\n",
      "       fill_value=1e+20)}\n",
      "The radar is located at 54.51761, -3.61508\n"
     ]
    }
   ],
   "source": [
    "print(radar.latitude)\n",
    "print(radar.longitude)\n",
    "print('The radar is located at {}, {}'.format(radar.latitude['data'][0], radar.longitude['data'][0]))"
   ]
  },
  {
   "cell_type": "markdown",
   "id": "fc17c3ea-c8ce-422e-9358-d8e2a0a8b8e8",
   "metadata": {},
   "source": [
    "**2. Radar gate spacing**\n",
    "\n",
    "The radar gate spacing isn't found within the instrument parameters. We can find the number of gates as an individual attribute of the radar object (```radar.ngates```) but need to intergoate the radar range attribute to find the gate spacing. The length of the 'range' attribute also indicates the number of gates within the file."
   ]
  },
  {
   "cell_type": "code",
   "execution_count": 13,
   "id": "d56b9fde-7733-4338-b364-e1825d47afc7",
   "metadata": {},
   "outputs": [
    {
     "name": "stdout",
     "output_type": "stream",
     "text": [
      " The radar object has 1000 range gates.\n"
     ]
    }
   ],
   "source": [
    "print(' The radar object has {} range gates.'.format(radar.ngates))"
   ]
  },
  {
   "cell_type": "code",
   "execution_count": 14,
   "id": "3f4de477-8802-444d-861b-4e679fc14634",
   "metadata": {},
   "outputs": [
    {
     "data": {
      "text/plain": [
       "'meters'"
      ]
     },
     "execution_count": 14,
     "metadata": {},
     "output_type": "execute_result"
    }
   ],
   "source": [
    "radar.range['units']"
   ]
  },
  {
   "cell_type": "code",
   "execution_count": 15,
   "id": "9131271b-296a-4ede-927d-aed3563d64d4",
   "metadata": {},
   "outputs": [
    {
     "data": {
      "text/plain": [
       "Text(0.5, 0, 'Range from the radar (meters)')"
      ]
     },
     "execution_count": 15,
     "metadata": {},
     "output_type": "execute_result"
    },
    {
     "data": {
      "image/png": "[encoded data removed]",
      "text/plain": [
       "<Figure size 640x480 with 1 Axes>"
      ]
     },
     "metadata": {},
     "output_type": "display_data"
    }
   ],
   "source": [
    "# Lets plot the difference between consecutive range gates in the range attribute as a function of range. This should be constant.\n",
    "\n",
    "plt.plot(radar.range['data'][1:], radar.range['data'][1:]-radar.range['data'][:-1])\n",
    "plt.ylabel('Consecutive range gate spacing ({})'.format(radar.range['units']))\n",
    "plt.xlabel('Range from the radar ({})'.format(radar.range['units']))"
   ]
  },
  {
   "cell_type": "markdown",
   "id": "c55d199f-d40c-4b65-ab8a-7db8fea18e88",
   "metadata": {},
   "source": [
    "This shows us that the gate spacing is 150 metres. Unless the precision of the data within the file leads to rounding errors the following code snippets would be sensible for finding this for use within a script:"
   ]
  },
  {
   "cell_type": "code",
   "execution_count": 16,
   "id": "edecd508-e70b-4247-aa55-97b66cef7f89",
   "metadata": {},
   "outputs": [
    {
     "name": "stdout",
     "output_type": "stream",
     "text": [
      "150.0\n",
      "150.0\n"
     ]
    }
   ],
   "source": [
    "gate_spacing = radar.range['data'][1]-radar.range['data'][0] # Take the first difference\n",
    "print(gate_spacing)\n",
    "\n",
    "gate_spacing = np.nanmean(radar.range['data'][1:]-radar.range['data'][:-1]) # Take the mean of all consecutive differences\n",
    "print(gate_spacing)\n"
   ]
  },
  {
   "cell_type": "markdown",
   "id": "561ff753-855c-4a67-b1cf-b43082cd7f0a",
   "metadata": {},
   "source": [
    "**3. Frequency and wavelength**\n",
    "\n",
    "We can see that frequency is contained within the instrument parameters attribute of the radar object (using ```radar.info```). We can start by investigating that."
   ]
  },
  {
   "cell_type": "code",
   "execution_count": 17,
   "id": "981b8593-4403-44c4-99b8-b4d615761312",
   "metadata": {},
   "outputs": [
    {
     "data": {
      "text/plain": [
       "{'long_name': 'transmission_frequency',\n",
       " 'units': 's-1',\n",
       " '_FillValue': -9999.0,\n",
       " 'meta_group': 'instrument_parameters',\n",
       " 'data': masked_array(data=[9.40083e+09],\n",
       "              mask=False,\n",
       "        fill_value=1e+20,\n",
       "             dtype=float32)}"
      ]
     },
     "execution_count": 17,
     "metadata": {},
     "output_type": "execute_result"
    }
   ],
   "source": [
    "radar.instrument_parameters['frequency']"
   ]
  },
  {
   "cell_type": "markdown",
   "id": "88c84c90-a61b-44e2-8a15-ed1e3a62267b",
   "metadata": {},
   "source": [
    "The data field contains a single value of 9.40083e+09 with a unit of s-1, which is 9.4GHz. Wavelegnth isn't stored within the parameters but we know that wavelength and frequency are inversely proportional to one another. Therefore we can calculate the wavelegnth using the frequency and the speed of light within the atmopshere (299,702,547 meters per second). "
   ]
  },
  {
   "cell_type": "code",
   "execution_count": 18,
   "id": "211723df-579c-4468-ab64-21f53c00f0b3",
   "metadata": {},
   "outputs": [
    {
     "name": "stdout",
     "output_type": "stream",
     "text": [
      "The radar wavelength is 0.0319 metres\n"
     ]
    }
   ],
   "source": [
    "speed_of_light = 299702547\n",
    "radar_frequency = radar.instrument_parameters['frequency']['data'][0]\n",
    "wavelength = speed_of_light/radar_frequency\n",
    "print('The radar wavelength is {:.4f} metres'.format(wavelength))"
   ]
  },
  {
   "cell_type": "markdown",
   "id": "fefbc6fc-75b5-4901-b056-cb3dd4559ce5",
   "metadata": {},
   "source": [
    "**4. Maximum reflectivity**\n",
    "\n",
    "To find the maximum radar reflectivity stored within the file we need to identify a suitable radar field to use and then use a numpy function to determine the maximum value found within that data. Going back to printing the fields and long names earlier we can see 4 potential options:\n",
    "\n",
    "- dBZ: reflectivity from horizontal polarisation\n",
    "- dBuZ: unfiltered reflectivity from horizontal polarisation \n",
    "- dBZv: reflectivity from vertical polarisation\n",
    "- dBuZv: unfiltered reflectivity from vertical polarisation\n",
    "\n",
    "As the question is non-specific in terms of either polarisation or filtering we will investigate all 4 fields to find the maximum (both polarisation and filtering will be covered later in the course).\n",
    "so "
   ]
  },
  {
   "cell_type": "code",
   "execution_count": 19,
   "id": "f4a273c0-0d6e-4366-8a69-972fb5716a27",
   "metadata": {},
   "outputs": [
    {
     "name": "stdout",
     "output_type": "stream",
     "text": [
      "dBZ :  56.0 dBZ\n",
      "dBuZ :  75.0 dBZ\n",
      "dBZv :  54.5 dBZ\n",
      "dBuZv :  77.0 dBZ\n"
     ]
    }
   ],
   "source": [
    "# Define a list of the fields we are interested in\n",
    "reflectivity_fields = ['dBZ', 'dBuZ', 'dBZv', 'dBuZv']\n",
    "# Loop throught the fields to find the maximum in each field\n",
    "for reflectivity_field in reflectivity_fields:\n",
    "    max_reflectivity = np.max(radar.fields[reflectivity_field]['data'])\n",
    "    print(reflectivity_field,': ', max_reflectivity, 'dBZ')"
   ]
  },
  {
   "cell_type": "markdown",
   "id": "48fcea13-bc62-4d7c-917b-94262349e84a",
   "metadata": {},
   "source": [
    "**5. Contact details**\n",
    "\n",
    "There are a range of contact details to choose from in the instrument metadata for this file. The question provides a useful reminder that in addition to the data they contain file can also contain additional information to help with their use / where to find help if something isn't clear."
   ]
  },
  {
   "cell_type": "code",
   "execution_count": 20,
   "id": "e3683e04-3362-4f17-9247-b7ba952d4119",
   "metadata": {},
   "outputs": [
    {
     "name": "stdout",
     "output_type": "stream",
     "text": [
      "ryan.neely@ncas.ac.uk\n",
      "lindsay.bennett@ncas.ac.uk\n"
     ]
    }
   ],
   "source": [
    "print(radar.metadata['project_principle_investigator_contact'])\n",
    "print(radar.metadata['creator_email'])"
   ]
  },
  {
   "cell_type": "markdown",
   "id": "fce8f4ca-0a26-4bba-9ed4-ea9e5373a0dd",
   "metadata": {},
   "source": [
    "The options available will change from file to file depending on who they've been created by and their intended use. Another option for help in this case would be the 'references' section."
   ]
  },
  {
   "cell_type": "code",
   "execution_count": 21,
   "id": "943d7e6b-067a-4ce3-a3f1-33a18130b9db",
   "metadata": {},
   "outputs": [
    {
     "name": "stdout",
     "output_type": "stream",
     "text": [
      "https://doi.org/10.5194/amt-11-6481-2018\n"
     ]
    }
   ],
   "source": [
    "print(radar.metadata['references'])"
   ]
  },
  {
   "cell_type": "markdown",
   "id": "598c24bd-92f3-4fa9-bdff-4b8635b54390",
   "metadata": {},
   "source": [
    "#### Working with the data in the radar files - Considering the minimum detectable signal"
   ]
  },
  {
   "cell_type": "markdown",
   "id": "ab97a670-8dfe-400e-b8af-8c5528a67fdb",
   "metadata": {},
   "source": [
    "In the Radar Fundamentals lecture we covered the ...\n",
    "\n",
    "If we examine a simplified form of the radar equation again we can see that the conversion of the average power received by the radar, $P_r$, to equivalent reflectivity factor, $Z$, depends on the radar calibraton constant ($C$) and the range of the observation from the radar, $r$.  \n",
    "\n",
    "$Z = C + 20.log_{10}(r) + 10.log_{10}(P_r)$\n",
    "\n"
   ]
  },
  {
   "cell_type": "code",
   "execution_count": 23,
   "id": "dac453c0-8d40-47c0-8335-ca4974cfbafa",
   "metadata": {},
   "outputs": [
    {
     "data": {
      "text/plain": [
       "{'long_name': 'calibrated_radar_constant_h_channel',\n",
       " 'units': 'db',\n",
       " 'meta_group': 'radar_calibration',\n",
       " '_FillValue': -9999.0,\n",
       " 'data': masked_array(data=[72.832],\n",
       "              mask=False,\n",
       "        fill_value=1e+20,\n",
       "             dtype=float32)}"
      ]
     },
     "execution_count": 23,
     "metadata": {},
     "output_type": "execute_result"
    }
   ],
   "source": [
    "radar.radar_calibration['r_calib_radar_constant_h']"
   ]
  },
  {
   "cell_type": "code",
   "execution_count": 24,
   "id": "64be1296-64be-4e50-a114-e19c48ba9df0",
   "metadata": {},
   "outputs": [
    {
     "data": {
      "text/plain": [
       "[<matplotlib.lines.Line2D at 0x7fc7121caf70>]"
      ]
     },
     "execution_count": 24,
     "metadata": {},
     "output_type": "execute_result"
    },
    {
     "data": {
      "image/png": "[encoded data removed]",
      "text/plain": [
       "<Figure size 640x480 with 1 Axes>"
      ]
     },
     "metadata": {},
     "output_type": "display_data"
    }
   ],
   "source": [
    "plt.plot(radar.range['data'],radar.fields['dBuZ']['data'][0])\n",
    "plt.plot(radar.range['data'],radar.fields['dBuZ']['data'][10])\n",
    "plt.plot(radar.range['data'],radar.fields['dBuZ']['data'][100])"
   ]
  },
  {
   "cell_type": "code",
   "execution_count": 25,
   "id": "6e1f1394-0f2f-414a-b78e-40061ccd7d50",
   "metadata": {},
   "outputs": [
    {
     "data": {
      "text/plain": [
       "[<matplotlib.lines.Line2D at 0x7fc71214ecd0>]"
      ]
     },
     "execution_count": 25,
     "metadata": {},
     "output_type": "execute_result"
    },
    {
     "data": {
      "image/png": "[encoded data removed]",
      "text/plain": [
       "<Figure size 640x480 with 1 Axes>"
      ]
     },
     "metadata": {},
     "output_type": "display_data"
    }
   ],
   "source": [
    "plt.scatter(np.tile(radar.range['data'],radar.nrays),radar.fields['dBuZ']['data'].flatten(),marker='x')\n",
    "plt.plot(radar.range['data'],np.nanmin(radar.fields['dBuZ']['data'],axis=0),'k--')"
   ]
  },
  {
   "cell_type": "code",
   "execution_count": 26,
   "id": "2fcd1315-44eb-4863-ae1b-48c6e43d70b5",
   "metadata": {},
   "outputs": [],
   "source": [
    "C = radar.radar_calibration['r_calib_radar_constant_h']['data'][0]\n",
    "Ri = np.tile(radar.range['data']/1000.0,radar.nrays).reshape(radar.nrays,radar.ngates)\n",
    "Pr = radar.fields['dBuZ']['data']-20*np.log10(Ri)-C\n"
   ]
  },
  {
   "cell_type": "code",
   "execution_count": 31,
   "id": "30f0f2af-386f-459b-897d-a43e96e4d184",
   "metadata": {},
   "outputs": [
    {
     "data": {
      "image/png": "[encoded data removed]",
      "text/plain": [
       "<Figure size 640x480 with 1 Axes>"
      ]
     },
     "metadata": {},
     "output_type": "display_data"
    }
   ],
   "source": [
    "plt.plot(radar.range['data'],np.nanmin(Pr, axis=0),'k--') # Plot the minimum received power observed vs distance from the radar\n",
    "plt.hlines(np.nanmin(Pr),0,150000, color='k',linestyles='--') # Plot the minimum received power observed within the whole file\n",
    "plt.ylim(-120,-90)\n",
    "plt.grid()"
   ]
  },
  {
   "cell_type": "markdown",
   "id": "6fbdaa88-49c5-4767-9427-1ebaedea0cbd",
   "metadata": {},
   "source": [
    "#### Summary\n",
    "Within this notebook, we have covered the basics of working with radar data using Py-ART, including:\n",
    "\n",
    "- Reading in a file using pyart.io\n",
    "- Investigating the ```Radar``` object\n",
    "- Finding information within the ```Radar``` object\n",
    "- Understanding the minimum detectable signal of radars using data from within the example file\n",
    "\n",
    "##### What’s Next\n",
    "- Using xradar in place of Py-ART (Practical 1 - Part 2)\n",
    "- Examining some more example files (Practical 1 example exercises)\n",
    "- Plotting data from the radar files (Practical 2)\n",
    "\n",
    "\n",
    "##### Resources and References\n"
   ]
  },
  {
   "cell_type": "code",
   "execution_count": null,
   "id": "0d839391-ec73-44bb-8a29-5fa7c1fc0451",
   "metadata": {},
   "outputs": [],
   "source": []
  },
  {
   "cell_type": "code",
   "execution_count": null,
   "id": "3db97ad5-316c-404b-a2c9-9a36e4779c98",
   "metadata": {},
   "outputs": [],
   "source": []
  }
 ],
 "metadata": {
  "kernelspec": {
   "display_name": "EArad",
   "language": "python",
   "name": "earad"
  },
  "language_info": {
   "codemirror_mode": {
    "name": "ipython",
    "version": 3
   },
   "file_extension": ".py",
   "mimetype": "text/x-python",
   "name": "python",
   "nbconvert_exporter": "python",
   "pygments_lexer": "ipython3",
   "version": "3.9.16"
  }
 },
 "nbformat": 4,
 "nbformat_minor": 5
}
